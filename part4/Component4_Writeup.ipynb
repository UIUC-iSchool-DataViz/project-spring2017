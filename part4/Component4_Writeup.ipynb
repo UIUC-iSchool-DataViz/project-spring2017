{
 "cells": [
  {
   "cell_type": "markdown",
   "metadata": {},
   "source": [
    "### The Team Summer:\n"
   ]
  },
  {
   "cell_type": "markdown",
   "metadata": {},
   "source": [
    "### Component 4\n"
   ]
  },
  {
   "cell_type": "markdown",
   "metadata": {},
   "source": [
    "For the infograph, each one of us made a png version of our visualizations and the story we wanted to tell. \n",
    "\n",
    " We discussed the structure/layout/aesthetics for each part and provided the  interpretations on the patterns shown by the plots, along with generating content for resective story. \n",
    "Bei designed a cumulative infographic using  Adobe PHOTOSHOP for infographic design. The charts/figures were drawn from python notebook/Tableau.\n",
    "\n",
    "Bei’s design  approach is elaborated below:\n",
    "\n",
    "Compared with online template website, Adobe PHOTOSHOP is more creative and flexible. We can design our own theme and arrange the layout without limits (both creativity and cost). \n",
    "Color theme: Our design is in accordance with the Illinois Identity Standard (Blue and Orange). And makes the info on MTD more “local”.\n",
    "Usage of several relevant icon elements to enrich the infographic.\n",
    "The interpretation is clear and smooth, we highlight some important and interesting points. \n",
    "The target audience of our infographic is the general public.\n",
    "\n",
    "Some Challenges faced in the design are:\n",
    "Creativity in the layout design\n",
    "Telling the whole story in a clear and attractive way. \n",
    "Making the figure from python notebook (with white background) suit the dark background in the infographic.\n",
    "\n",
    "Our team wished to be more acquainted with transforming visualizations into stories and design."
   ]
  }
 ],
 "metadata": {
  "kernelspec": {
   "display_name": "Python 3",
   "language": "python",
   "name": "python3"
  },
  "language_info": {
   "codemirror_mode": {
    "name": "ipython",
    "version": 3
   },
   "file_extension": ".py",
   "mimetype": "text/x-python",
   "name": "python",
   "nbconvert_exporter": "python",
   "pygments_lexer": "ipython3",
   "version": "3.6.0"
  }
 },
 "nbformat": 4,
 "nbformat_minor": 2
}
