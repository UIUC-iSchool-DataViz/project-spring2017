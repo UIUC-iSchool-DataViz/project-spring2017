{
 "cells": [
  {
   "cell_type": "markdown",
   "metadata": {},
   "source": [
    "### The Team Summer:\n"
   ]
  },
  {
   "cell_type": "markdown",
   "metadata": {},
   "source": [
    "## Component 2\n"
   ]
  },
  {
   "cell_type": "markdown",
   "metadata": {},
   "source": [
    "### What question were you trying to answer?\n"
   ]
  },
  {
   "cell_type": "markdown",
   "metadata": {},
   "source": [
    "Liqun explored about what types of grants are supported by IMLS and that changes over time. She also investigates as to whether there is  a relationship between the economic factors in a zip code and the grants from IMLS?.\n",
    "Bei investigated the spatial distribution of grants and the relationship between the grant’s geographical information and grant’s value. \n",
    "Vaishnavi was curious whether there is there a relationship between the trends for sum of grants in each year vs the number of grants each year, while La analysed if  there is  a relationship between the economic factors in a zip code and the grants from IMLS?\n"
   ]
  },
  {
   "cell_type": "markdown",
   "metadata": {},
   "source": [
    "#### Approach taken:"
   ]
  },
  {
   "cell_type": "markdown",
   "metadata": {},
   "source": [
    "Liqun’s approach included the following:\n",
    "        (1) Use ipywidgets to interactively visualize the spatial distribution of different types of grants (overlaid on a Plate Carree projection map).\n",
    "(2) Use Plotly interactive line chart to make comparison of the count of different types of grants over time (i.e. fiscal year).\n",
    "(3) Merge the grant data with GDP data obtained from FRED using CBSA code.\n",
    "(4) Use Bokeh data linked viewing to show the relationship between grant award amount and the locations of the grant-receiving institutes, and the relationship between grant award amount and the economic context (reflected by local GDP) of the grant-receiving institutes.\n",
    "Bei’s approach included the following:\n",
    "Use basemap package to visualize the spatial distribution of grants in US states. Contain the information of state's name (abbreviation); Use colormap to show the grants density in each state.\n",
    "Use scatterplot to show the spatial distribution of grants amounts. Modify the scatter size and color to show the quantitative data (Rewards amount)\n",
    "           Vaishnavi’s approach included the following:\n",
    "Change the format of the date column so that aggregation of funds and groupby function can be applied over the years. The new format of year was added to the original table . The required columns were extracted from the table and converted into individual data frames (Individual Award sum per year  and number of grants per year). The scales were adjusted. \n",
    "Plotly was used to do line plots in interactive visualizations to compare the total number of grants per year and the sum of funds granted to all the programs that year.\n",
    "            \n",
    "La wanted to  predict the relationship between the tax income of different state government and the grants but the appropriate dataset wasn’t found. "
   ]
  },
  {
   "cell_type": "markdown",
   "metadata": {},
   "source": [
    "#### Why you took the approach you did?"
   ]
  },
  {
   "cell_type": "markdown",
   "metadata": {},
   "source": [
    "Liqun chose her approach for the following reasons:\n",
    "(1) Ipywidgets, Plotly and Bokeh are very powerful frameworks to interactively visualize data.\n",
    "(2) Linked data viewing is very suitable to show relationships and distributions\n",
    "Bei chose her approach for the following reasons:\n",
    "Basemap can show the US states information and the density by states\n",
    "We can modify the attribute of scatterplot to show more information in one figure.\n",
    "Vaishnavi chose the approach as the line graphs are easy to analyse given the small range of years for studying the trend. Also, plotly had the most beginner friendly documentation that bokeh or ipywidgets."
   ]
  },
  {
   "cell_type": "markdown",
   "metadata": {},
   "source": [
    "#### Strengths of each approach:\n"
   ]
  },
  {
   "cell_type": "markdown",
   "metadata": {},
   "source": [
    "Liqun’s approach provides the reader many opportunities to interact with the data and discover patterns through it.\n",
    " Bei’s and Vaishnavi’s plots are  informative in showing the spatial information by US states and the corresponding yearly numbers respectively.\n",
    "\n"
   ]
  },
  {
   "cell_type": "markdown",
   "metadata": {},
   "source": [
    "#### Weaknesses of each approach:\n",
    "\n"
   ]
  },
  {
   "cell_type": "markdown",
   "metadata": {},
   "source": [
    "Liqun and Vaishnavi note that  Bokeh is slow and  Plotly is not free. \n",
    "Bei notes that only contains 48 states information in the basemap, losing information about District of Columbia and Puerto Rico.\n",
    "\n",
    "\t\n"
   ]
  },
  {
   "cell_type": "markdown",
   "metadata": {},
   "source": [
    "#### Challenges faced:\n"
   ]
  },
  {
   "cell_type": "markdown",
   "metadata": {},
   "source": [
    " Liqun: \n",
    "(1) FRED, the website for economic data, is poorly organized, making huge challenge for users to locate and download desired datasets. \n",
    "(2) The free version of Plotly only allows limited times per day for users to plot.\n",
    "Vaishnavi’s challenges included the following:\n",
    "1.The entire project involved many simple tasks that can take a lot of time for beginers to figure out without an understanding of the supporting environment around programing.Installation and setting up plotly was a challenge.\n",
    "2.The preprocessing of data  required high level of data manipulation skills. Though it was easy and interesting, the process of understanding each keyword and searching for right resources to learn the techniques was time consuming.It involved dealing with errors and  understanding  what functions/procedures are at  our disposal or not  with Python . Adjusting the scale on the graph was challenging. This research itself took a few days’ time for each line of code- But it was the best part! \n",
    "3.The documentation is not beginner friendly on the websites.  For an instance, for  installing pip: The documentation showed $ pip install but it doesn’t mention that it must be run on command line . Running it within Jupyter notebook showed that plotly can’t be run and it took a lot of time to identify that the  right reason for the error was in installing.\n",
    "4.Further, searching online for help returns results that are not at all relevant to beginners questions., \n",
    "It was noted  that it was straightforward  to sart with the data and figure out a visualization for it. But if we start with a question to solve (begin with data vs begining with question) , it required high data manipulation skill.\n",
    "Bei’s challenges included:\n",
    "How to install basemap and use the shape file. \n",
    "How to plot state's name on the map and how to use colormap to show the density.\n",
    "How to adjust the scale of size and color in the scatterplot to make the quantitative data be shown accurately.\n",
    "La found it difficult to find a complete dataset which includes economic factor like tax income or unemployment rate and zip code to link with the grants dataset."
   ]
  },
  {
   "cell_type": "markdown",
   "metadata": {},
   "source": [
    "### What you wished you had been able to do (if anything)?\n",
    "\t"
   ]
  },
  {
   "cell_type": "markdown",
   "metadata": {},
   "source": [
    "Liqun would have liked to look at the relationships between grant type and grant award and other economic factors. Bei wishes that the basemap was more interactive, like when hovering over the states, more information about grants could be shown. Vaishnavi wishes she could have made more detailed analysis within the dataset like the ratio of libraries to museums in the grants and so on. Though this part was started, the data manipulation got trickier and the analysis was abandoned.\n",
    "La wishes to have found the applicable dataset and detect a relationship.\n",
    "\n"
   ]
  },
  {
   "cell_type": "markdown",
   "metadata": {},
   "source": [
    "### Which part of the visualization did you contribute to?\n"
   ]
  },
  {
   "cell_type": "markdown",
   "metadata": {},
   "source": [
    "Liqun: Data Management (read in data, merge original data with other data). Searching and Downloading outside data (i.e. GDP data). Use ipywidgets, plotly, and bokeh to visualize data.\n",
    "Bei: Data Management (Read in data about states name and their abbreviation); Visualizing spatial data by using Basemap and Cartopy package.\n",
    "La: Fixing some problems of other’s code and merging all subparts.\n",
    "Vaishnavi: Data cleaning and visualization\n",
    "\n"
   ]
  },
  {
   "cell_type": "markdown",
   "metadata": {},
   "source": [
    "### What new things did you learn? "
   ]
  },
  {
   "cell_type": "markdown",
   "metadata": {},
   "source": [
    "Liqun: Manipulate the aesthetics of plotly through python codes.\n",
    "La: Matching two data sets from different sources can be very tricky.\n",
    "Vaishnavi: Identifying the right interactive plot\n",
    "\n"
   ]
  },
  {
   "cell_type": "markdown",
   "metadata": {},
   "source": [
    "### What did you enjoy the most about the project?\n",
    "We all enjoyed striving to make visualizations work! La enjoyed fixing  problems to get all the code work.\n",
    "\n",
    "\n",
    "\n"
   ]
  },
  {
   "cell_type": "code",
   "execution_count": null,
   "metadata": {
    "collapsed": true
   },
   "outputs": [],
   "source": []
  }
 ],
 "metadata": {
  "kernelspec": {
   "display_name": "Python 3",
   "language": "python",
   "name": "python3"
  },
  "language_info": {
   "codemirror_mode": {
    "name": "ipython",
    "version": 3
   },
   "file_extension": ".py",
   "mimetype": "text/x-python",
   "name": "python",
   "nbconvert_exporter": "python",
   "pygments_lexer": "ipython3",
   "version": "3.6.0"
  }
 },
 "nbformat": 4,
 "nbformat_minor": 2
}
