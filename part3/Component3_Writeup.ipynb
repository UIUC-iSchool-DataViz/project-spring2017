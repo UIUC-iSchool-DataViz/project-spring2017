{
 "cells": [
  {
   "cell_type": "markdown",
   "metadata": {},
   "source": [
    "### The Team Summer:\n"
   ]
  },
  {
   "cell_type": "markdown",
   "metadata": {},
   "source": [
    "## Component 3\n",
    "\n"
   ]
  },
  {
   "cell_type": "markdown",
   "metadata": {},
   "source": [
    "### What objective were you trying to achieve ?\n",
    "\n"
   ]
  },
  {
   "cell_type": "markdown",
   "metadata": {},
   "source": [
    "Liqun sought to interactively visualize the relationship between (quant1, quant2) and (longitude, latitude) and the relationship between (quant1, year) and (longitude, latitude) using bokeh linked data viewing. \n",
    "Bei’s objective was to interactively visualize the spatial data by using ipywidget. What’s the relationship between spatial data and categorical/quantitative data.\n",
    "La’s objective was to visualize the relationship between categorical column and quantitative columns.\n",
    "\n"
   ]
  },
  {
   "cell_type": "markdown",
   "metadata": {},
   "source": [
    "#### Approach taken: \n"
   ]
  },
  {
   "cell_type": "markdown",
   "metadata": {},
   "source": [
    "Liqun’s approach included:\n",
    "(1) Use self-defined function to recognize categorical and quantitative variables, as well as how many of them.\n",
    "(2) Borrow the codes developed in Component 2 and make them general so that they could be used to visualize the unknown data.\n",
    "Bei’s approach included: \n",
    "1.Building a function to visualize the spatial data. \n",
    "2.Using ipywidget to modify the visualization of spatial data by categorical/quantitative variables.\n",
    "3.Building  function to convert the date unix time to yy/mm/dd format and showing the data in time series dimension.\n",
    "La's aproach: Get the category list and count the rows of dataset for each category. Use self-defined function to create a bar chart to show the number of observation of each category and a 3d scatter graph to show the relationship for each pair of quantitative variables. The dots of the scatter graph are colored by category. \n",
    "The sorted bar chart could directly tell people which category has the most and the least observations. The 3d scatter graph could show as much information as possible to detect the relationship. \n"
   ]
  },
  {
   "cell_type": "markdown",
   "metadata": {},
   "source": [
    "#### Strengths of each approach:"
   ]
  },
  {
   "cell_type": "markdown",
   "metadata": {},
   "source": [
    "Liqun: general enough to handle unknown data.   "
   ]
  },
  {
   "cell_type": "markdown",
   "metadata": {},
   "source": [
    "La: The graph is colorful, informative and intuitive."
   ]
  },
  {
   "cell_type": "markdown",
   "metadata": {},
   "source": [
    "#### Weaknesses of each approach:\n",
    "\n"
   ]
  },
  {
   "cell_type": "markdown",
   "metadata": {},
   "source": [
    "Liqun: Bokeh interactive plot could only be exported as html files. \n",
    "La: The scatter graph may be too complicated to tell the relationships or patterns clearly.\n"
   ]
  },
  {
   "cell_type": "markdown",
   "metadata": {},
   "source": [
    "Challenges faced:\n",
    "\n"
   ]
  },
  {
   "cell_type": "markdown",
   "metadata": {},
   "source": [
    "Liqun: Output the all visualizations in one file.\n",
    "\n",
    "\n"
   ]
  },
  {
   "cell_type": "markdown",
   "metadata": {},
   "source": [
    "### What you wished you had been able to do?\n"
   ]
  },
  {
   "cell_type": "markdown",
   "metadata": {},
   "source": [
    "Liqun: Some summary statistics. \n",
    "La: Greate a pie chart for to summarize the category information.\n",
    "\n"
   ]
  },
  {
   "cell_type": "markdown",
   "metadata": {},
   "source": [
    "### Which part of the visualization did you contribute to?\n"
   ]
  },
  {
   "cell_type": "markdown",
   "metadata": {},
   "source": [
    "\n",
    "Liqun: Build up functions to recognize categorical and quantitative variables. Visualize relationships between (quant, quant) and (lon, lat), (quant, year) and (lon, lat).\n",
    "Wrap-up the codes into one function and appropriately generates output files. \n",
    "Bei: Build up functions to show the information about spatial data, exploring the relationship between categorical/quantitative data; Deal with the time data.\n",
    "La: Build up functions to create a bar chart showing the number of observation of each category and a 3d scatter graph to show the relationship for each pair of quantitative variables. \n",
    " \n"
   ]
  },
  {
   "cell_type": "markdown",
   "metadata": {},
   "source": [
    "### What new things did you learn?"
   ]
  },
  {
   "cell_type": "markdown",
   "metadata": {},
   "source": [
    "Liqun: Output bokeh data visualizations. Conceptually design how to visualize different type of data (e.g. quantitative, categorical, spatial, time).\n",
    "La: 3D visualization.\n"
   ]
  },
  {
   "cell_type": "markdown",
   "metadata": {},
   "source": [
    "### What did you enjoy the most about the project?\n"
   ]
  },
  {
   "cell_type": "markdown",
   "metadata": {},
   "source": [
    "Liqun: Guessing the data type.\n",
    "La: Figure out what information I could obtain from the category column and quantitative column of an unknown dataset.\n",
    "\n",
    "\n"
   ]
  }
 ],
 "metadata": {
  "kernelspec": {
   "display_name": "Python 3",
   "language": "python",
   "name": "python3"
  },
  "language_info": {
   "codemirror_mode": {
    "name": "ipython",
    "version": 3
   },
   "file_extension": ".py",
   "mimetype": "text/x-python",
   "name": "python",
   "nbconvert_exporter": "python",
   "pygments_lexer": "ipython3",
   "version": "3.6.0"
  }
 },
 "nbformat": 4,
 "nbformat_minor": 2
}
