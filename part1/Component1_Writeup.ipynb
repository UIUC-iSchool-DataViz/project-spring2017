{
 "cells": [
  {
   "cell_type": "markdown",
   "metadata": {},
   "source": [
    "### The Team Summer:\n"
   ]
  },
  {
   "cell_type": "markdown",
   "metadata": {},
   "source": [
    "Our team comprises of diverse educational backgrounds. Liqun is pursuing her Ph.D in Sociology,  Bei is pursuing her Masters in Advertising, La and I (Vaishnavi) are pursuing our masters in Information Management. We enjoyed working as a  team, learning from each other. We believe we have been productive and self-motivated. We are most happy with the fact that we have operated as a team throughout- in brainstorming ,   executing and crafting the story we want to tell.\n",
    "We also attended a github tutorial session on campus!\t \n",
    "\n",
    "\n",
    "Our first meet was on 25th March , 2017, following which we met every Thursday evening. We spent time discussing the  project timeline and work division on our first few meets.We also identified the right datasets to use and explored the websites , documentation and datasets to gain familiarity with the topics before starting. \n",
    "We discussed all the components’ questions and possible  insights. For each component and each question, we would first discuss together, present ideas,  share suggestions and then work on individual sections.\n"
   ]
  },
  {
   "cell_type": "markdown",
   "metadata": {},
   "source": [
    "### Data Gathering:\n"
   ]
  },
  {
   "cell_type": "markdown",
   "metadata": {},
   "source": [
    "It has been noted that the CUMTD dataset had a licence statement:\n",
    "“Except as otherwise noted, the content of this page is licensed under the Creative Commons Attribution 3.0 License, and code samples are licensed under the Apache 2.0 License. For details, see our Site Policies. Java is a registered trademark of Oracle and/or its affiliates..”\n",
    "\n",
    "Finding the right datasets from the websites had been challenging and time consuming. Some files had missing data or inconsistent information like difference in years or number of bus routes etc. \n",
    "We used Box to share data files.\n"
   ]
  },
  {
   "cell_type": "markdown",
   "metadata": {},
   "source": [
    "## Component 1\n",
    "\n"
   ]
  },
  {
   "cell_type": "markdown",
   "metadata": {},
   "source": [
    "### What question were you trying to answer?\n",
    "\n"
   ]
  },
  {
   "cell_type": "markdown",
   "metadata": {},
   "source": [
    "In the first component using CUMTD dataset, Liqun and La investigated the questions “How quickly do buses go?” and “How does this vary based on time of day, route, and weekday vs weekend?” Bei  investigated the  distribution of stops, the  stops density and the relationship between bus stops and trips.Vaishnavi investigated the number of unique buses per route.\n",
    "La analysed how quickly the buses go and how this varies based on the  time of the day, route, and weekday vs weekend.\n"
   ]
  },
  {
   "cell_type": "markdown",
   "metadata": {},
   "source": [
    "#### Approach taken: \n"
   ]
  },
  {
   "cell_type": "markdown",
   "metadata": {},
   "source": [
    "Liqun and Vaishnavi cleaned  and preprocessed the data to compute bus speed and the number of buses per route respectively.\n",
    "The approach taken by Liqun involved computing travel time between stops on each trip and saving the information in a network structured data (Stop as node and travel time as the property of edge). She built self-defined functions so that the codes are easier to maintain.Bar chart and network graph have been used to  visualize bus speed and  the route information is colour coded.\n",
    "La has visualized the bus speed.For the Bus stops’ distribution Bei used gmplot package to plot bus spatial data on Google map, which included both  scatter plot and heatmap.On one hand, seaborn jointplot was used to plot bus density and distribution in each spatial dimension. On the other hand, binning method was used to plot bus density, to compare the two methods’ and to check whether  the results are corresponding.Bei also calculated the relationship between bus stops and trips. She computed the  number of bus stops on each trip/number of trips each bus stop serves and used a histogram and fitted line to show the distribution.Vaishnavi computed the number of buses based on the number of unique  block Ids per route. The buses were grouped by colour and sorted within each colour group in descending order.Seaborn Library was used for the visualization.La: Base on Liqun’s data preprocessing, do the data visualization of bus speed by route. Use the horizontal bar to represent the speed of the bus and order those speed bars in descend order."
   ]
  },
  {
   "cell_type": "markdown",
   "metadata": {},
   "source": [
    "#### Why you took the approach you did?\n"
   ]
  },
  {
   "cell_type": "markdown",
   "metadata": {},
   "source": [
    "Based on the underlying data structure, Liqun chose to store bus travel information as graph data. For the Data visualization, she identified Bar chart as appropriate to compare multiple items.\n",
    "Bei chose to plot Bus stops distribution on the real map as it is more informative and helps the user get a perspective of the location. For the Bus stop density, she chose to use two methods to show both  the overall density (seaborn) and the detailed density (binning method). Histogram and fitted line have been used to show  the relationships and distributions .\n",
    "Vaishnavi chose a horizontal Bar graph to represent the number of buses in each route that produced a mixture of all routes’ information. They have then been sorted according to colour and then within each colour so that it is easy to compare within and across multiple routes. The idea is that one can infer  the nearest routes to them with high frequency of buses. This can be helpful while looking for housing options on campus. Sometimes it can also act as a tiebreaker to choose which nearby bus stop to go to if we are in a hurry.\n",
    "La: Line or curve graph is not appropriate as it is not time series data. Pie chart is apparently not suitable. Bar chart is typical for quantitative response variable with categorical predictor variable. Order it by speed would make the graph more informative and intuitive.\n",
    "\n"
   ]
  },
  {
   "cell_type": "markdown",
   "metadata": {},
   "source": [
    "#### Strengths of each  approach:"
   ]
  },
  {
   "cell_type": "markdown",
   "metadata": {},
   "source": [
    "Liqun’s approach is very flexible and could easily be re-used to compute other variables if needed.Bei’s and Vaishnavi’s approaches are straightforward and  result in easy to understand and informative visualizations.La: The visualization is colorful, informative and intuitive.\n",
    "\n",
    "\n"
   ]
  },
  {
   "cell_type": "markdown",
   "metadata": {},
   "source": [
    "#### Weaknesses of each  approach:\n",
    "\n",
    "-Liqun noted that the approach is time consuming to prepare the data.\n",
    "-“gmplot” package used by Bei could only generated html web page that couldn’t be inserted in  the webpage of ipython notebook. The overlapping annotation on the map is hard to distinguish and requires manual adjustment.\n",
    "-In Vaishnavi’s approach, doesn’t help to compare the number across multiple routes easily. La noted that too many bar charts may cause visual fatigue.\n",
    "\n"
   ]
  },
  {
   "cell_type": "markdown",
   "metadata": {},
   "source": [
    "#### Challenges faced:\n"
   ]
  },
  {
   "cell_type": "markdown",
   "metadata": {},
   "source": [
    "The overall structure of the CUMTD datasets are complicated, it took efforts and time to understand how the information about routes, trips, stops, block ids and  shapes are connected with each other. The documentation about these definitions were helpful but not clear to answer further questions we had.For example, there are several trips of a route and  there are two directions of trips. Liqun had to  carefully tease out this information, or else one cannot accurately  calculate the bus speed.Further, the relationship between trips, routes and block id’s can lead to multiple interpretations but there is no way to confirm our understanding of the data.\n",
    "Liqun faced the challenge that the data type of travel time of buses are strings. Some of the strings are in the format such as “26:00:00”, which makes it impossible to directly convert the strings into datetime format to compute time between stops. It needed a lot data cleaning and data processing.\n",
    "Vaishnavi has experienced challenges in exploring and  identifying the right library to use so as to directly plot string names on the axis without having to make manual adjustments.\n",
    "La: Matching the bus speed with each route and sorting the bars.\n",
    "\n",
    "\n",
    "    "
   ]
  },
  {
   "cell_type": "markdown",
   "metadata": {},
   "source": [
    "### What you wished you had been able to do (if anything)?\n",
    "\n"
   ]
  },
  {
   "cell_type": "markdown",
   "metadata": {},
   "source": [
    "As expressed by Liqun, “It would be very interesting to interactively visualize the  \n",
    "           CUMTD bus information. Vaishnavi felt the need to know about the data structures and data types in depth to manipulate data to answer some questions that she wished to investigate.In general, experience in python and foundation in coding would have been enabling.La: Other types of graph to show the information of bus speed by route.\n",
    "\n"
   ]
  },
  {
   "cell_type": "markdown",
   "metadata": {},
   "source": [
    "### What you wished you had been able to do? (if anything)."
   ]
  },
  {
   "cell_type": "markdown",
   "metadata": {},
   "source": [
    "           \n",
    "As expressed by Liqun, “It would be very interesting to interactively visualize the  \n",
    "           CUMTD bus information. Vaishnavi felt the need to know about the data structures and data types in depth to manipulate data to answer some questions that she wished to investigate.In general, experience in python and foundation in coding would have been enabling.La: Other types of graph to show the information of bus speed by route.\n",
    "\n",
    "\n"
   ]
  },
  {
   "cell_type": "markdown",
   "metadata": {},
   "source": [
    "### Which part of the visualization did you contribute to?\n"
   ]
  },
  {
   "cell_type": "markdown",
   "metadata": {},
   "source": [
    "Liqun: Code, Data Management (read in original data), data cleaning, and calculate average bus speed by route and travel time between stops by trip, and construct network structured data to contain this information. Modify data visualization addressing bus speed.\n",
    "Bei: Coding (Bus stops spatial distribution/ Relationship between bus and trips); Wrap up component 1\n",
    "Vaishnavi: Loading,  cleaning data, preprocessing and visualization of Buses per route.\n",
    "La: Visualization of the bus speed.\n"
   ]
  },
  {
   "cell_type": "markdown",
   "metadata": {},
   "source": [
    "### What new things did you learn? \n"
   ]
  },
  {
   "cell_type": "markdown",
   "metadata": {},
   "source": [
    "Liqun: How to use plotly to visualize graph data (network structured data).\n",
    " Bei: How to plot spatial distribution using gmplot package. How to show density\n",
    "            information using seaborn package\n",
    "            Vaishnavi: Apart from the visualization techniques and tools/packages/libraries, I learned\n",
    "            a.How to use github and command line interface b. How to approach problem\n",
    "            solving in coding and the relevant search techniques/resources. A little bit of python \n",
    "            Data Structures and data manipulation.How technical teams collaborate.\n",
    "\tLa: Various library for visualization.\n"
   ]
  },
  {
   "cell_type": "markdown",
   "metadata": {},
   "source": [
    "### What did you enjoy the most about the project? \n"
   ]
  },
  {
   "cell_type": "markdown",
   "metadata": {},
   "source": [
    "All of us enjoyed every part of the project. La  enjoyed successfully figuring out how to match and sort the data tuples. Vaishnavi was excited to  to figure out the right functions to use.\n"
   ]
  }
 ],
 "metadata": {
  "kernelspec": {
   "display_name": "Python 3",
   "language": "python",
   "name": "python3"
  },
  "language_info": {
   "codemirror_mode": {
    "name": "ipython",
    "version": 3
   },
   "file_extension": ".py",
   "mimetype": "text/x-python",
   "name": "python",
   "nbconvert_exporter": "python",
   "pygments_lexer": "ipython3",
   "version": "3.6.0"
  }
 },
 "nbformat": 4,
 "nbformat_minor": 2
}
