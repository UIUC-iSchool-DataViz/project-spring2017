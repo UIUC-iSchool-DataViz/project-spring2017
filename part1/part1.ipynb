{
 "cells": [
  {
   "cell_type": "markdown",
   "metadata": {},
   "source": [
    "## Component 1: Procedural, Bespoke Visualization"
   ]
  },
  {
   "cell_type": "code",
   "execution_count": 21,
   "metadata": {
    "collapsed": false
   },
   "outputs": [],
   "source": [
    "## Importing necessary Libraries \n",
    "## Pandas to work on Data Frames\n",
    "import pandas as pd\n",
    "#Numpy for Numerical Computation \n",
    "import numpy as np\n",
    "## Matplotlib for Plotting Data\n",
    "import matplotlib.pyplot as plt\n",
    "## Style used ggplot for all the graphs for having consistent Visulization \n",
    "plt.style.use('ggplot')\n",
    "## Provide a matplotlib like interface to plotting data with Google Maps\n",
    "import gmplot\n",
    "import datetime\n",
    "%matplotlib inline"
   ]
  },
  {
   "cell_type": "code",
   "execution_count": 15,
   "metadata": {
    "collapsed": false
   },
   "outputs": [],
   "source": [
    "##  Reading Transit Shapes for the Champaign City \n",
    "shapes = pd.read_csv(\"google_transit/shapes.txt\")\n",
    "shape1 = shapes.loc[shapes[\"shape_id\"] == \"[@2.0.86175868@]34\"]"
   ]
  },
  {
   "cell_type": "code",
   "execution_count": 18,
   "metadata": {
    "collapsed": false
   },
   "outputs": [
    {
     "data": {
      "text/plain": [
       "shape_id\n",
       "1 YELLOW ALT 25               15081.377088\n",
       "100 LATE 3                     4498.913993\n",
       "100 LATE 5                    11485.402334\n",
       "100N                          25849.308800\n",
       "100N->IT                      16246.834096\n",
       "100N-LATE                      4606.626993\n",
       "100NIT->                       9602.474705\n",
       "100NLTNT->                    12077.777356\n",
       "100S                          24831.587307\n",
       "100S->PLAZA                   10669.024538\n",
       "100SLTNT->                    11573.206744\n",
       "10E                           16803.622334\n",
       "10W AMBP->LSG                 11488.805970\n",
       "10W GOLD ALT 1                18958.286842\n",
       "10WLSG->                      12119.606254\n",
       "10WSV1                         3805.270409\n",
       "120W TEAL LATE 12              5670.836845\n",
       "12E TEAL 13                    6130.199374\n",
       "12E TEAL WEEKEND 13            6130.199374\n",
       "12W TEAL 12                    5683.602587\n",
       "12W TEAL WEEKEND 12            5683.602587\n",
       "130N SILVER EVENING 1          5788.641865\n",
       "130N SILVER EVENING 2          4657.583136\n",
       "130N SILVER LATE 1             5788.641865\n",
       "130N SILVER WEEKEND 1          5788.641865\n",
       "130N SILVER WEEKEND 2          4657.583136\n",
       "130N SILVERLATE 2              4657.583136\n",
       "130S SILVER EVENING 3          5896.035015\n",
       "130S SILVER LATE 3             5917.032709\n",
       "130S SILVER WEEKEND 3          5896.035015\n",
       "                                  ...     \n",
       "[@2.0.85633622@]8              6356.400728\n",
       "[@2.0.85634618@]21            13453.322471\n",
       "[@2.0.85634827@]37            13270.132003\n",
       "[@2.0.85635071@]58             7152.719337\n",
       "[@2.0.86175868@]18             4639.044770\n",
       "[@2.0.86175868@]19             1699.159894\n",
       "[@2.0.86175868@]25            11072.650097\n",
       "[@2.0.86175868@]27              917.137154\n",
       "[@2.0.86175868@]34             8737.745855\n",
       "[@2.0.86175868@]42             7544.590949\n",
       "[@2.0.86175868@]53             1730.113558\n",
       "[@2.0.86175868@]56             3844.854143\n",
       "[@2.0.86175868@]6WIT->CF      13713.191231\n",
       "[@2.0.86175868@]7             11753.161384\n",
       "[@2.0.86175868@]70             2847.822090\n",
       "[@2.0.86175868@]75             7590.083569\n",
       "[@2.0.86175868@]ORANGE 12      8813.276508\n",
       "[@2.0.86175868@]ORANGE 13     13452.321278\n",
       "[@2.0.86175868@]ORANGE 14      4405.205639\n",
       "[@2.0.86175868@]ORANGE 16      4408.070869\n",
       "[@2.0.86175868@]ORANGE 17      7590.083569\n",
       "[@2.0.86175868@]ORANGE 23      3892.191471\n",
       "[@2.0.86175868@]ORANGE 24      1410.545911\n",
       "[@2.0.86175868@]ORANGE 31     16282.336804\n",
       "[@2.0.86175868@]ORANGE 32      4975.445376\n",
       "[@2.0.86175868@]ORANGE 33     11775.827539\n",
       "[@2.0.86175868@]ORANGE 610     1439.129299\n",
       "[@2.0.86175868@]ORANGE 63      9206.681965\n",
       "[@2.0.86175868@]ORANGE 64      8737.745855\n",
       "[@2.0.86232218@]426           16158.221809\n",
       "Name: shape_dist_traveled, dtype: float64"
      ]
     },
     "execution_count": 18,
     "metadata": {},
     "output_type": "execute_result"
    }
   ],
   "source": [
    "##  Grouping the shape by Distance Traveled\n",
    "shapes.groupby(['shape_id']).max()['shape_dist_traveled']"
   ]
  },
  {
   "cell_type": "code",
   "execution_count": 17,
   "metadata": {
    "collapsed": false
   },
   "outputs": [
    {
     "data": {
      "text/plain": [
       "8737.7458545525405"
      ]
     },
     "execution_count": 17,
     "metadata": {},
     "output_type": "execute_result"
    }
   ],
   "source": [
    "## Max shape size with distance traveled\n",
    "max(shape1[\"shape_dist_traveled\"])"
   ]
  },
  {
   "cell_type": "code",
   "execution_count": 20,
   "metadata": {
    "collapsed": false,
    "scrolled": true
   },
   "outputs": [
    {
     "data": {
      "text/html": [
       "<div>\n",
       "<table border=\"1\" class=\"dataframe\">\n",
       "  <thead>\n",
       "    <tr style=\"text-align: right;\">\n",
       "      <th></th>\n",
       "      <th>shape_pt_lat</th>\n",
       "      <th>shape_pt_lon</th>\n",
       "      <th>shape_pt_sequence</th>\n",
       "      <th>shape_dist_traveled</th>\n",
       "    </tr>\n",
       "    <tr>\n",
       "      <th>shape_id</th>\n",
       "      <th></th>\n",
       "      <th></th>\n",
       "      <th></th>\n",
       "      <th></th>\n",
       "    </tr>\n",
       "  </thead>\n",
       "  <tbody>\n",
       "    <tr>\n",
       "      <th>1 YELLOW ALT 25</th>\n",
       "      <td>2499</td>\n",
       "      <td>2499</td>\n",
       "      <td>2499</td>\n",
       "      <td>2499</td>\n",
       "    </tr>\n",
       "    <tr>\n",
       "      <th>100 LATE 3</th>\n",
       "      <td>908</td>\n",
       "      <td>908</td>\n",
       "      <td>908</td>\n",
       "      <td>908</td>\n",
       "    </tr>\n",
       "    <tr>\n",
       "      <th>100 LATE 5</th>\n",
       "      <td>1809</td>\n",
       "      <td>1809</td>\n",
       "      <td>1809</td>\n",
       "      <td>1809</td>\n",
       "    </tr>\n",
       "    <tr>\n",
       "      <th>100N</th>\n",
       "      <td>4157</td>\n",
       "      <td>4157</td>\n",
       "      <td>4157</td>\n",
       "      <td>4157</td>\n",
       "    </tr>\n",
       "    <tr>\n",
       "      <th>100N-&gt;IT</th>\n",
       "      <td>2802</td>\n",
       "      <td>2802</td>\n",
       "      <td>2802</td>\n",
       "      <td>2802</td>\n",
       "    </tr>\n",
       "    <tr>\n",
       "      <th>100N-LATE</th>\n",
       "      <td>911</td>\n",
       "      <td>911</td>\n",
       "      <td>911</td>\n",
       "      <td>911</td>\n",
       "    </tr>\n",
       "    <tr>\n",
       "      <th>100NIT-&gt;</th>\n",
       "      <td>1356</td>\n",
       "      <td>1356</td>\n",
       "      <td>1356</td>\n",
       "      <td>1356</td>\n",
       "    </tr>\n",
       "    <tr>\n",
       "      <th>100NLTNT-&gt;</th>\n",
       "      <td>1849</td>\n",
       "      <td>1849</td>\n",
       "      <td>1849</td>\n",
       "      <td>1849</td>\n",
       "    </tr>\n",
       "    <tr>\n",
       "      <th>100S</th>\n",
       "      <td>3862</td>\n",
       "      <td>3862</td>\n",
       "      <td>3862</td>\n",
       "      <td>3862</td>\n",
       "    </tr>\n",
       "    <tr>\n",
       "      <th>100S-&gt;PLAZA</th>\n",
       "      <td>1819</td>\n",
       "      <td>1819</td>\n",
       "      <td>1819</td>\n",
       "      <td>1819</td>\n",
       "    </tr>\n",
       "    <tr>\n",
       "      <th>100SLTNT-&gt;</th>\n",
       "      <td>1837</td>\n",
       "      <td>1837</td>\n",
       "      <td>1837</td>\n",
       "      <td>1837</td>\n",
       "    </tr>\n",
       "    <tr>\n",
       "      <th>10E</th>\n",
       "      <td>3422</td>\n",
       "      <td>3422</td>\n",
       "      <td>3422</td>\n",
       "      <td>3422</td>\n",
       "    </tr>\n",
       "    <tr>\n",
       "      <th>10W AMBP-&gt;LSG</th>\n",
       "      <td>3279</td>\n",
       "      <td>3279</td>\n",
       "      <td>3279</td>\n",
       "      <td>3279</td>\n",
       "    </tr>\n",
       "    <tr>\n",
       "      <th>10W GOLD ALT 1</th>\n",
       "      <td>5114</td>\n",
       "      <td>5114</td>\n",
       "      <td>5114</td>\n",
       "      <td>5114</td>\n",
       "    </tr>\n",
       "    <tr>\n",
       "      <th>10WLSG-&gt;</th>\n",
       "      <td>2136</td>\n",
       "      <td>2136</td>\n",
       "      <td>2136</td>\n",
       "      <td>2136</td>\n",
       "    </tr>\n",
       "    <tr>\n",
       "      <th>10WSV1</th>\n",
       "      <td>539</td>\n",
       "      <td>539</td>\n",
       "      <td>539</td>\n",
       "      <td>539</td>\n",
       "    </tr>\n",
       "    <tr>\n",
       "      <th>120W TEAL LATE 12</th>\n",
       "      <td>1468</td>\n",
       "      <td>1468</td>\n",
       "      <td>1468</td>\n",
       "      <td>1468</td>\n",
       "    </tr>\n",
       "    <tr>\n",
       "      <th>12E TEAL 13</th>\n",
       "      <td>1542</td>\n",
       "      <td>1542</td>\n",
       "      <td>1542</td>\n",
       "      <td>1542</td>\n",
       "    </tr>\n",
       "    <tr>\n",
       "      <th>12E TEAL WEEKEND 13</th>\n",
       "      <td>1542</td>\n",
       "      <td>1542</td>\n",
       "      <td>1542</td>\n",
       "      <td>1542</td>\n",
       "    </tr>\n",
       "    <tr>\n",
       "      <th>12W TEAL 12</th>\n",
       "      <td>1478</td>\n",
       "      <td>1478</td>\n",
       "      <td>1478</td>\n",
       "      <td>1478</td>\n",
       "    </tr>\n",
       "    <tr>\n",
       "      <th>12W TEAL WEEKEND 12</th>\n",
       "      <td>1478</td>\n",
       "      <td>1478</td>\n",
       "      <td>1478</td>\n",
       "      <td>1478</td>\n",
       "    </tr>\n",
       "    <tr>\n",
       "      <th>130N SILVER EVENING 1</th>\n",
       "      <td>1396</td>\n",
       "      <td>1396</td>\n",
       "      <td>1396</td>\n",
       "      <td>1396</td>\n",
       "    </tr>\n",
       "    <tr>\n",
       "      <th>130N SILVER EVENING 2</th>\n",
       "      <td>1230</td>\n",
       "      <td>1230</td>\n",
       "      <td>1230</td>\n",
       "      <td>1230</td>\n",
       "    </tr>\n",
       "    <tr>\n",
       "      <th>130N SILVER LATE 1</th>\n",
       "      <td>1396</td>\n",
       "      <td>1396</td>\n",
       "      <td>1396</td>\n",
       "      <td>1396</td>\n",
       "    </tr>\n",
       "    <tr>\n",
       "      <th>130N SILVER WEEKEND 1</th>\n",
       "      <td>1396</td>\n",
       "      <td>1396</td>\n",
       "      <td>1396</td>\n",
       "      <td>1396</td>\n",
       "    </tr>\n",
       "    <tr>\n",
       "      <th>130N SILVER WEEKEND 2</th>\n",
       "      <td>1230</td>\n",
       "      <td>1230</td>\n",
       "      <td>1230</td>\n",
       "      <td>1230</td>\n",
       "    </tr>\n",
       "    <tr>\n",
       "      <th>130N SILVERLATE 2</th>\n",
       "      <td>1230</td>\n",
       "      <td>1230</td>\n",
       "      <td>1230</td>\n",
       "      <td>1230</td>\n",
       "    </tr>\n",
       "    <tr>\n",
       "      <th>130S SILVER EVENING 3</th>\n",
       "      <td>1396</td>\n",
       "      <td>1396</td>\n",
       "      <td>1396</td>\n",
       "      <td>1396</td>\n",
       "    </tr>\n",
       "    <tr>\n",
       "      <th>130S SILVER LATE 3</th>\n",
       "      <td>1399</td>\n",
       "      <td>1399</td>\n",
       "      <td>1399</td>\n",
       "      <td>1399</td>\n",
       "    </tr>\n",
       "    <tr>\n",
       "      <th>130S SILVER WEEKEND 3</th>\n",
       "      <td>1396</td>\n",
       "      <td>1396</td>\n",
       "      <td>1396</td>\n",
       "      <td>1396</td>\n",
       "    </tr>\n",
       "    <tr>\n",
       "      <th>...</th>\n",
       "      <td>...</td>\n",
       "      <td>...</td>\n",
       "      <td>...</td>\n",
       "      <td>...</td>\n",
       "    </tr>\n",
       "    <tr>\n",
       "      <th>[@2.0.85633622@]8</th>\n",
       "      <td>1672</td>\n",
       "      <td>1672</td>\n",
       "      <td>1672</td>\n",
       "      <td>1672</td>\n",
       "    </tr>\n",
       "    <tr>\n",
       "      <th>[@2.0.85634618@]21</th>\n",
       "      <td>2041</td>\n",
       "      <td>2041</td>\n",
       "      <td>2041</td>\n",
       "      <td>2041</td>\n",
       "    </tr>\n",
       "    <tr>\n",
       "      <th>[@2.0.85634827@]37</th>\n",
       "      <td>3002</td>\n",
       "      <td>3002</td>\n",
       "      <td>3002</td>\n",
       "      <td>3002</td>\n",
       "    </tr>\n",
       "    <tr>\n",
       "      <th>[@2.0.85635071@]58</th>\n",
       "      <td>1911</td>\n",
       "      <td>1911</td>\n",
       "      <td>1911</td>\n",
       "      <td>1911</td>\n",
       "    </tr>\n",
       "    <tr>\n",
       "      <th>[@2.0.86175868@]18</th>\n",
       "      <td>749</td>\n",
       "      <td>749</td>\n",
       "      <td>749</td>\n",
       "      <td>749</td>\n",
       "    </tr>\n",
       "    <tr>\n",
       "      <th>[@2.0.86175868@]19</th>\n",
       "      <td>609</td>\n",
       "      <td>609</td>\n",
       "      <td>609</td>\n",
       "      <td>609</td>\n",
       "    </tr>\n",
       "    <tr>\n",
       "      <th>[@2.0.86175868@]25</th>\n",
       "      <td>2258</td>\n",
       "      <td>2258</td>\n",
       "      <td>2258</td>\n",
       "      <td>2258</td>\n",
       "    </tr>\n",
       "    <tr>\n",
       "      <th>[@2.0.86175868@]27</th>\n",
       "      <td>295</td>\n",
       "      <td>295</td>\n",
       "      <td>295</td>\n",
       "      <td>295</td>\n",
       "    </tr>\n",
       "    <tr>\n",
       "      <th>[@2.0.86175868@]34</th>\n",
       "      <td>2482</td>\n",
       "      <td>2482</td>\n",
       "      <td>2482</td>\n",
       "      <td>2482</td>\n",
       "    </tr>\n",
       "    <tr>\n",
       "      <th>[@2.0.86175868@]42</th>\n",
       "      <td>1213</td>\n",
       "      <td>1213</td>\n",
       "      <td>1213</td>\n",
       "      <td>1213</td>\n",
       "    </tr>\n",
       "    <tr>\n",
       "      <th>[@2.0.86175868@]53</th>\n",
       "      <td>631</td>\n",
       "      <td>631</td>\n",
       "      <td>631</td>\n",
       "      <td>631</td>\n",
       "    </tr>\n",
       "    <tr>\n",
       "      <th>[@2.0.86175868@]56</th>\n",
       "      <td>746</td>\n",
       "      <td>746</td>\n",
       "      <td>746</td>\n",
       "      <td>746</td>\n",
       "    </tr>\n",
       "    <tr>\n",
       "      <th>[@2.0.86175868@]6WIT-&gt;CF</th>\n",
       "      <td>3296</td>\n",
       "      <td>3296</td>\n",
       "      <td>3296</td>\n",
       "      <td>3296</td>\n",
       "    </tr>\n",
       "    <tr>\n",
       "      <th>[@2.0.86175868@]7</th>\n",
       "      <td>2579</td>\n",
       "      <td>2579</td>\n",
       "      <td>2579</td>\n",
       "      <td>2579</td>\n",
       "    </tr>\n",
       "    <tr>\n",
       "      <th>[@2.0.86175868@]70</th>\n",
       "      <td>1086</td>\n",
       "      <td>1086</td>\n",
       "      <td>1086</td>\n",
       "      <td>1086</td>\n",
       "    </tr>\n",
       "    <tr>\n",
       "      <th>[@2.0.86175868@]75</th>\n",
       "      <td>1145</td>\n",
       "      <td>1145</td>\n",
       "      <td>1145</td>\n",
       "      <td>1145</td>\n",
       "    </tr>\n",
       "    <tr>\n",
       "      <th>[@2.0.86175868@]ORANGE 12</th>\n",
       "      <td>2439</td>\n",
       "      <td>2439</td>\n",
       "      <td>2439</td>\n",
       "      <td>2439</td>\n",
       "    </tr>\n",
       "    <tr>\n",
       "      <th>[@2.0.86175868@]ORANGE 13</th>\n",
       "      <td>3187</td>\n",
       "      <td>3187</td>\n",
       "      <td>3187</td>\n",
       "      <td>3187</td>\n",
       "    </tr>\n",
       "    <tr>\n",
       "      <th>[@2.0.86175868@]ORANGE 14</th>\n",
       "      <td>1309</td>\n",
       "      <td>1309</td>\n",
       "      <td>1309</td>\n",
       "      <td>1309</td>\n",
       "    </tr>\n",
       "    <tr>\n",
       "      <th>[@2.0.86175868@]ORANGE 16</th>\n",
       "      <td>1131</td>\n",
       "      <td>1131</td>\n",
       "      <td>1131</td>\n",
       "      <td>1131</td>\n",
       "    </tr>\n",
       "    <tr>\n",
       "      <th>[@2.0.86175868@]ORANGE 17</th>\n",
       "      <td>1145</td>\n",
       "      <td>1145</td>\n",
       "      <td>1145</td>\n",
       "      <td>1145</td>\n",
       "    </tr>\n",
       "    <tr>\n",
       "      <th>[@2.0.86175868@]ORANGE 23</th>\n",
       "      <td>749</td>\n",
       "      <td>749</td>\n",
       "      <td>749</td>\n",
       "      <td>749</td>\n",
       "    </tr>\n",
       "    <tr>\n",
       "      <th>[@2.0.86175868@]ORANGE 24</th>\n",
       "      <td>262</td>\n",
       "      <td>262</td>\n",
       "      <td>262</td>\n",
       "      <td>262</td>\n",
       "    </tr>\n",
       "    <tr>\n",
       "      <th>[@2.0.86175868@]ORANGE 31</th>\n",
       "      <td>3694</td>\n",
       "      <td>3694</td>\n",
       "      <td>3694</td>\n",
       "      <td>3694</td>\n",
       "    </tr>\n",
       "    <tr>\n",
       "      <th>[@2.0.86175868@]ORANGE 32</th>\n",
       "      <td>815</td>\n",
       "      <td>815</td>\n",
       "      <td>815</td>\n",
       "      <td>815</td>\n",
       "    </tr>\n",
       "    <tr>\n",
       "      <th>[@2.0.86175868@]ORANGE 33</th>\n",
       "      <td>2300</td>\n",
       "      <td>2300</td>\n",
       "      <td>2300</td>\n",
       "      <td>2300</td>\n",
       "    </tr>\n",
       "    <tr>\n",
       "      <th>[@2.0.86175868@]ORANGE 610</th>\n",
       "      <td>270</td>\n",
       "      <td>270</td>\n",
       "      <td>270</td>\n",
       "      <td>270</td>\n",
       "    </tr>\n",
       "    <tr>\n",
       "      <th>[@2.0.86175868@]ORANGE 63</th>\n",
       "      <td>1902</td>\n",
       "      <td>1902</td>\n",
       "      <td>1902</td>\n",
       "      <td>1902</td>\n",
       "    </tr>\n",
       "    <tr>\n",
       "      <th>[@2.0.86175868@]ORANGE 64</th>\n",
       "      <td>2482</td>\n",
       "      <td>2482</td>\n",
       "      <td>2482</td>\n",
       "      <td>2482</td>\n",
       "    </tr>\n",
       "    <tr>\n",
       "      <th>[@2.0.86232218@]426</th>\n",
       "      <td>3275</td>\n",
       "      <td>3275</td>\n",
       "      <td>3275</td>\n",
       "      <td>3275</td>\n",
       "    </tr>\n",
       "  </tbody>\n",
       "</table>\n",
       "<p>677 rows × 4 columns</p>\n",
       "</div>"
      ],
      "text/plain": [
       "                            shape_pt_lat  shape_pt_lon  shape_pt_sequence  \\\n",
       "shape_id                                                                    \n",
       "1 YELLOW ALT 25                     2499          2499               2499   \n",
       "100 LATE 3                           908           908                908   \n",
       "100 LATE 5                          1809          1809               1809   \n",
       "100N                                4157          4157               4157   \n",
       "100N->IT                            2802          2802               2802   \n",
       "100N-LATE                            911           911                911   \n",
       "100NIT->                            1356          1356               1356   \n",
       "100NLTNT->                          1849          1849               1849   \n",
       "100S                                3862          3862               3862   \n",
       "100S->PLAZA                         1819          1819               1819   \n",
       "100SLTNT->                          1837          1837               1837   \n",
       "10E                                 3422          3422               3422   \n",
       "10W AMBP->LSG                       3279          3279               3279   \n",
       "10W GOLD ALT 1                      5114          5114               5114   \n",
       "10WLSG->                            2136          2136               2136   \n",
       "10WSV1                               539           539                539   \n",
       "120W TEAL LATE 12                   1468          1468               1468   \n",
       "12E TEAL 13                         1542          1542               1542   \n",
       "12E TEAL WEEKEND 13                 1542          1542               1542   \n",
       "12W TEAL 12                         1478          1478               1478   \n",
       "12W TEAL WEEKEND 12                 1478          1478               1478   \n",
       "130N SILVER EVENING 1               1396          1396               1396   \n",
       "130N SILVER EVENING 2               1230          1230               1230   \n",
       "130N SILVER LATE 1                  1396          1396               1396   \n",
       "130N SILVER WEEKEND 1               1396          1396               1396   \n",
       "130N SILVER WEEKEND 2               1230          1230               1230   \n",
       "130N SILVERLATE 2                   1230          1230               1230   \n",
       "130S SILVER EVENING 3               1396          1396               1396   \n",
       "130S SILVER LATE 3                  1399          1399               1399   \n",
       "130S SILVER WEEKEND 3               1396          1396               1396   \n",
       "...                                  ...           ...                ...   \n",
       "[@2.0.85633622@]8                   1672          1672               1672   \n",
       "[@2.0.85634618@]21                  2041          2041               2041   \n",
       "[@2.0.85634827@]37                  3002          3002               3002   \n",
       "[@2.0.85635071@]58                  1911          1911               1911   \n",
       "[@2.0.86175868@]18                   749           749                749   \n",
       "[@2.0.86175868@]19                   609           609                609   \n",
       "[@2.0.86175868@]25                  2258          2258               2258   \n",
       "[@2.0.86175868@]27                   295           295                295   \n",
       "[@2.0.86175868@]34                  2482          2482               2482   \n",
       "[@2.0.86175868@]42                  1213          1213               1213   \n",
       "[@2.0.86175868@]53                   631           631                631   \n",
       "[@2.0.86175868@]56                   746           746                746   \n",
       "[@2.0.86175868@]6WIT->CF            3296          3296               3296   \n",
       "[@2.0.86175868@]7                   2579          2579               2579   \n",
       "[@2.0.86175868@]70                  1086          1086               1086   \n",
       "[@2.0.86175868@]75                  1145          1145               1145   \n",
       "[@2.0.86175868@]ORANGE 12           2439          2439               2439   \n",
       "[@2.0.86175868@]ORANGE 13           3187          3187               3187   \n",
       "[@2.0.86175868@]ORANGE 14           1309          1309               1309   \n",
       "[@2.0.86175868@]ORANGE 16           1131          1131               1131   \n",
       "[@2.0.86175868@]ORANGE 17           1145          1145               1145   \n",
       "[@2.0.86175868@]ORANGE 23            749           749                749   \n",
       "[@2.0.86175868@]ORANGE 24            262           262                262   \n",
       "[@2.0.86175868@]ORANGE 31           3694          3694               3694   \n",
       "[@2.0.86175868@]ORANGE 32            815           815                815   \n",
       "[@2.0.86175868@]ORANGE 33           2300          2300               2300   \n",
       "[@2.0.86175868@]ORANGE 610           270           270                270   \n",
       "[@2.0.86175868@]ORANGE 63           1902          1902               1902   \n",
       "[@2.0.86175868@]ORANGE 64           2482          2482               2482   \n",
       "[@2.0.86232218@]426                 3275          3275               3275   \n",
       "\n",
       "                            shape_dist_traveled  \n",
       "shape_id                                         \n",
       "1 YELLOW ALT 25                            2499  \n",
       "100 LATE 3                                  908  \n",
       "100 LATE 5                                 1809  \n",
       "100N                                       4157  \n",
       "100N->IT                                   2802  \n",
       "100N-LATE                                   911  \n",
       "100NIT->                                   1356  \n",
       "100NLTNT->                                 1849  \n",
       "100S                                       3862  \n",
       "100S->PLAZA                                1819  \n",
       "100SLTNT->                                 1837  \n",
       "10E                                        3422  \n",
       "10W AMBP->LSG                              3279  \n",
       "10W GOLD ALT 1                             5114  \n",
       "10WLSG->                                   2136  \n",
       "10WSV1                                      539  \n",
       "120W TEAL LATE 12                          1468  \n",
       "12E TEAL 13                                1542  \n",
       "12E TEAL WEEKEND 13                        1542  \n",
       "12W TEAL 12                                1478  \n",
       "12W TEAL WEEKEND 12                        1478  \n",
       "130N SILVER EVENING 1                      1396  \n",
       "130N SILVER EVENING 2                      1230  \n",
       "130N SILVER LATE 1                         1396  \n",
       "130N SILVER WEEKEND 1                      1396  \n",
       "130N SILVER WEEKEND 2                      1230  \n",
       "130N SILVERLATE 2                          1230  \n",
       "130S SILVER EVENING 3                      1396  \n",
       "130S SILVER LATE 3                         1399  \n",
       "130S SILVER WEEKEND 3                      1396  \n",
       "...                                         ...  \n",
       "[@2.0.85633622@]8                          1672  \n",
       "[@2.0.85634618@]21                         2041  \n",
       "[@2.0.85634827@]37                         3002  \n",
       "[@2.0.85635071@]58                         1911  \n",
       "[@2.0.86175868@]18                          749  \n",
       "[@2.0.86175868@]19                          609  \n",
       "[@2.0.86175868@]25                         2258  \n",
       "[@2.0.86175868@]27                          295  \n",
       "[@2.0.86175868@]34                         2482  \n",
       "[@2.0.86175868@]42                         1213  \n",
       "[@2.0.86175868@]53                          631  \n",
       "[@2.0.86175868@]56                          746  \n",
       "[@2.0.86175868@]6WIT->CF                   3296  \n",
       "[@2.0.86175868@]7                          2579  \n",
       "[@2.0.86175868@]70                         1086  \n",
       "[@2.0.86175868@]75                         1145  \n",
       "[@2.0.86175868@]ORANGE 12                  2439  \n",
       "[@2.0.86175868@]ORANGE 13                  3187  \n",
       "[@2.0.86175868@]ORANGE 14                  1309  \n",
       "[@2.0.86175868@]ORANGE 16                  1131  \n",
       "[@2.0.86175868@]ORANGE 17                  1145  \n",
       "[@2.0.86175868@]ORANGE 23                   749  \n",
       "[@2.0.86175868@]ORANGE 24                   262  \n",
       "[@2.0.86175868@]ORANGE 31                  3694  \n",
       "[@2.0.86175868@]ORANGE 32                   815  \n",
       "[@2.0.86175868@]ORANGE 33                  2300  \n",
       "[@2.0.86175868@]ORANGE 610                  270  \n",
       "[@2.0.86175868@]ORANGE 63                  1902  \n",
       "[@2.0.86175868@]ORANGE 64                  2482  \n",
       "[@2.0.86232218@]426                        3275  \n",
       "\n",
       "[677 rows x 4 columns]"
      ]
     },
     "execution_count": 20,
     "metadata": {},
     "output_type": "execute_result"
    }
   ],
   "source": [
    "## Shape grouping by Shape ID \n",
    "shapes.groupby([\"shape_id\"]).count()"
   ]
  },
  {
   "cell_type": "code",
   "execution_count": 22,
   "metadata": {
    "collapsed": false
   },
   "outputs": [
    {
     "ename": "NameError",
     "evalue": "name 'numpy' is not defined",
     "output_type": "error",
     "traceback": [
      "\u001b[0;31m---------------------------------------------------------------------------\u001b[0m",
      "\u001b[0;31mNameError\u001b[0m                                 Traceback (most recent call last)",
      "\u001b[0;32m<ipython-input-22-62134352644b>\u001b[0m in \u001b[0;36m<module>\u001b[0;34m()\u001b[0m\n\u001b[1;32m      1\u001b[0m \u001b[0mnx\u001b[0m\u001b[0;34m,\u001b[0m \u001b[0mny\u001b[0m \u001b[0;34m=\u001b[0m \u001b[0;36m10\u001b[0m\u001b[0;34m,\u001b[0m \u001b[0;36m3\u001b[0m\u001b[0;34m\u001b[0m\u001b[0m\n\u001b[1;32m      2\u001b[0m \u001b[0;31m## compute appropriate bins to histogram the data into\u001b[0m\u001b[0;34m\u001b[0m\u001b[0;34m\u001b[0m\u001b[0m\n\u001b[0;32m----> 3\u001b[0;31m \u001b[0mlon_bins\u001b[0m \u001b[0;34m=\u001b[0m \u001b[0mnumpy\u001b[0m\u001b[0;34m.\u001b[0m\u001b[0mlinspace\u001b[0m\u001b[0;34m(\u001b[0m\u001b[0mmin\u001b[0m\u001b[0;34m(\u001b[0m\u001b[0mshape1\u001b[0m\u001b[0;34m[\u001b[0m\u001b[0;34m\"shape_pt_lon\"\u001b[0m\u001b[0;34m]\u001b[0m\u001b[0;34m)\u001b[0m\u001b[0;34m,\u001b[0m \u001b[0mmax\u001b[0m\u001b[0;34m(\u001b[0m\u001b[0mshape1\u001b[0m\u001b[0;34m[\u001b[0m\u001b[0;34m\"shape_pt_lon\"\u001b[0m\u001b[0;34m]\u001b[0m\u001b[0;34m)\u001b[0m\u001b[0;34m,\u001b[0m \u001b[0mnx\u001b[0m\u001b[0;34m+\u001b[0m\u001b[0;36m1\u001b[0m\u001b[0;34m)\u001b[0m\u001b[0;34m\u001b[0m\u001b[0m\n\u001b[0m\u001b[1;32m      4\u001b[0m \u001b[0mlat_bins\u001b[0m \u001b[0;34m=\u001b[0m \u001b[0mnumpy\u001b[0m\u001b[0;34m.\u001b[0m\u001b[0mlinspace\u001b[0m\u001b[0;34m(\u001b[0m\u001b[0mmin\u001b[0m\u001b[0;34m(\u001b[0m\u001b[0mshape1\u001b[0m\u001b[0;34m[\u001b[0m\u001b[0;34m\"shape_pt_lat\"\u001b[0m\u001b[0;34m]\u001b[0m\u001b[0;34m)\u001b[0m\u001b[0;34m,\u001b[0m \u001b[0mmax\u001b[0m\u001b[0;34m(\u001b[0m\u001b[0mshape1\u001b[0m\u001b[0;34m[\u001b[0m\u001b[0;34m\"shape_pt_lat\"\u001b[0m\u001b[0;34m]\u001b[0m\u001b[0;34m)\u001b[0m\u001b[0;34m,\u001b[0m \u001b[0mny\u001b[0m\u001b[0;34m+\u001b[0m\u001b[0;36m1\u001b[0m\u001b[0;34m)\u001b[0m\u001b[0;34m\u001b[0m\u001b[0m\n\u001b[1;32m      5\u001b[0m \u001b[0;34m\u001b[0m\u001b[0m\n",
      "\u001b[0;31mNameError\u001b[0m: name 'numpy' is not defined"
     ]
    }
   ],
   "source": [
    "nx, ny = 10, 3\n",
    "## compute appropriate bins to histogram the data into\n",
    "lon_bins = numpy.linspace(min(shape1[\"shape_pt_lon\"]), max(shape1[\"shape_pt_lon\"]), nx+1)\n",
    "lat_bins = numpy.linspace(min(shape1[\"shape_pt_lat\"]), max(shape1[\"shape_pt_lat\"]), ny+1)\n",
    "\n",
    "# Histogram the lats and lons to produce an array of frequencies in each box.\n",
    "# Because histogram2d does not follow the cartesian convention \n",
    "# (as documented in the numpy.histogram2d docs)\n",
    "# we need to provide lats and lons rather than lons and lats\n",
    "density, _, _ = numpy.histogram2d(shape1[\"shape_pt_lat\"], shape1[\"shape_pt_lon\"], [lat_bins, lon_bins])\n",
    "\n",
    "# Turn the lon/lat bins into 2 dimensional arrays ready \n",
    "# for conversion into projected coordinates\n",
    "lon_bins_2d, lat_bins_2d = numpy.meshgrid(lon_bins, lat_bins)\n",
    "\n",
    "# convert the xs and ys to map coordinates\n",
    "xs, ys = m(lon_bins_2d, lat_bins_2d)\n",
    "\n",
    "plt.pcolormesh(xs, ys, density)\n",
    "plt.colorbar(orientation='horizontal')\n",
    "\n",
    "# overlay the scatter points to see that the density \n",
    "# is working as expected\n",
    "plt.scatter(*m(shape1[\"shape_pt_lon\"], shape1[\"shape_pt_lat\"]))\n",
    "\n",
    "plt.show()"
   ]
  },
  {
   "cell_type": "code",
   "execution_count": null,
   "metadata": {
    "collapsed": false
   },
   "outputs": [],
   "source": [
    "plt.plot(shape1.shape_pt_lon, shape1.shape_pt_lat)"
   ]
  },
  {
   "cell_type": "code",
   "execution_count": null,
   "metadata": {
    "collapsed": false
   },
   "outputs": [],
   "source": [
    "len(shapes.shape_id.unique())"
   ]
  },
  {
   "cell_type": "code",
   "execution_count": null,
   "metadata": {
    "collapsed": false
   },
   "outputs": [],
   "source": [
    "shapes.shape_id.unique()"
   ]
  },
  {
   "cell_type": "code",
   "execution_count": null,
   "metadata": {
    "collapsed": true
   },
   "outputs": [],
   "source": [
    "routes = pd.read_csv(\"google_transit/routes.txt\")"
   ]
  },
  {
   "cell_type": "code",
   "execution_count": null,
   "metadata": {
    "collapsed": false
   },
   "outputs": [],
   "source": [
    "routes"
   ]
  },
  {
   "cell_type": "code",
   "execution_count": null,
   "metadata": {
    "collapsed": true
   },
   "outputs": [],
   "source": [
    "trips = pd.read_csv(\"google_transit/trips.txt\")"
   ]
  },
  {
   "cell_type": "code",
   "execution_count": null,
   "metadata": {
    "collapsed": false
   },
   "outputs": [],
   "source": [
    "trips"
   ]
  },
  {
   "cell_type": "code",
   "execution_count": null,
   "metadata": {
    "collapsed": false
   },
   "outputs": [],
   "source": [
    "trips.trip_id.unique()"
   ]
  },
  {
   "cell_type": "code",
   "execution_count": null,
   "metadata": {
    "collapsed": true
   },
   "outputs": [],
   "source": [
    "calendar = pd.read_csv(\"google_transit/calendar.txt\")"
   ]
  },
  {
   "cell_type": "code",
   "execution_count": null,
   "metadata": {
    "collapsed": true
   },
   "outputs": [],
   "source": [
    "calendar_dates = pd.read_csv(\"google_transit/calendar_dates.txt\")"
   ]
  },
  {
   "cell_type": "code",
   "execution_count": null,
   "metadata": {
    "collapsed": true
   },
   "outputs": [],
   "source": [
    "fare_attributes = pd.read_csv(\"google_transit/fare_attributes.txt\")"
   ]
  },
  {
   "cell_type": "code",
   "execution_count": null,
   "metadata": {
    "collapsed": false
   },
   "outputs": [],
   "source": [
    "fare_attributes"
   ]
  },
  {
   "cell_type": "code",
   "execution_count": null,
   "metadata": {
    "collapsed": true
   },
   "outputs": [],
   "source": [
    "fare_rules = pd.read_csv(\"google_transit/fare_rules.txt\")"
   ]
  },
  {
   "cell_type": "code",
   "execution_count": null,
   "metadata": {
    "collapsed": false
   },
   "outputs": [],
   "source": [
    "fare_rules.groupby([\"fare_id\"]).count()"
   ]
  },
  {
   "cell_type": "code",
   "execution_count": null,
   "metadata": {
    "collapsed": false
   },
   "outputs": [],
   "source": [
    "plt.plot(shapes.shape_pt_lat, shapes.shape_pt_lon,'.', alpha =0.5)\n",
    "plt.grid()"
   ]
  },
  {
   "cell_type": "code",
   "execution_count": null,
   "metadata": {
    "collapsed": true
   },
   "outputs": [],
   "source": [
    "stops = pd.read_csv(\"google_transit/stops.txt\")"
   ]
  },
  {
   "cell_type": "code",
   "execution_count": null,
   "metadata": {
    "collapsed": false
   },
   "outputs": [],
   "source": [
    "stops"
   ]
  },
  {
   "cell_type": "code",
   "execution_count": null,
   "metadata": {
    "collapsed": false
   },
   "outputs": [],
   "source": [
    "gmap = gmplot.GoogleMapPlotter(40.088, -88.281, 16)\n",
    "gmap.scatter(stops.stop_lat, stops.stop_lon,'r', size=30, marker=False)\n",
    "gmap.draw('density.html')"
   ]
  },
  {
   "cell_type": "code",
   "execution_count": null,
   "metadata": {
    "collapsed": false
   },
   "outputs": [],
   "source": [
    "gmap = gmplot.GoogleMapPlotter(40.088, -88.281, 16)\n",
    "gmap.heatmap(stops.stop_lat, stops.stop_lon)\n",
    "gmap.draw('density_heatmap.html')\n"
   ]
  },
  {
   "cell_type": "code",
   "execution_count": null,
   "metadata": {
    "collapsed": false
   },
   "outputs": [],
   "source": [
    "plt.hexbin(stops.stop_lat, stops.stop_lon, bins = 'log', cmap = 'viridis')\n",
    "cb = plt.colorbar()\n",
    "cb.set_label('Stop Density')\n",
    "plt.title(\"Spatial Distribution of Stops\")\n",
    "plt.xlabel(\"Latitude\")\n",
    "plt.ylabel(\"Longitude\")"
   ]
  },
  {
   "cell_type": "code",
   "execution_count": null,
   "metadata": {
    "collapsed": true
   },
   "outputs": [],
   "source": [
    "stop_times = pd.read_csv(\"google_transit/stop_times.txt\")"
   ]
  },
  {
   "cell_type": "code",
   "execution_count": null,
   "metadata": {
    "collapsed": false
   },
   "outputs": [],
   "source": [
    "stop_times"
   ]
  },
  {
   "cell_type": "code",
   "execution_count": null,
   "metadata": {
    "collapsed": false
   },
   "outputs": [],
   "source": [
    "stop_times.loc[stop_times['trip_id']=='[@14.0.56288404@][41][1316446361177]/2__R2_MF']"
   ]
  },
  {
   "cell_type": "code",
   "execution_count": null,
   "metadata": {
    "collapsed": false
   },
   "outputs": [],
   "source": [
    "len(stop_times.trip_id.unique())"
   ]
  },
  {
   "cell_type": "code",
   "execution_count": null,
   "metadata": {
    "collapsed": false
   },
   "outputs": [],
   "source": [
    "yellow_100n = shapes.loc[shapes[\"shape_id\"] == \"100N\"]\n",
    "teal = shapes.loc[shapes[\"shape_id\"] == \"[@124.0.92275054@]120W TEAL LATE 12\"]\n",
    "green = shapes.loc[shapes[\"shape_id\"] == \"[@124.0.92311676@]50E GREEN 53\"]\n",
    "red = shapes.loc[shapes[\"shape_id\"] == \"RED 6\"]\n",
    "gold = shapes.loc[shapes[\"shape_id\"] == \"[@2.0.84927215@]GOLD 1\"]\n",
    "silver = shapes.loc[shapes[\"shape_id\"] == \"[@124.0.92286725@]130N SILVER EVENING 1\"]\n",
    "purple = shapes.loc[shapes[\"shape_id\"] == \"[@124.0.92263401@]220N ILLINI 10\"]\n",
    "orange = shapes.loc[shapes[\"shape_id\"] == \"[@2.0.86175868@]ORANGE 33\"]"
   ]
  },
  {
   "cell_type": "code",
   "execution_count": null,
   "metadata": {
    "collapsed": false
   },
   "outputs": [],
   "source": [
    "import matplotlib.cbook as cbook\n",
    "from scipy.misc import imread\n",
    "\n",
    "datafile = cbook.get_sample_data('/Users/arpitgarg/Documents/UIUC/MSIM/spring17/Data-Visualization-Class/Project/project-spring2017/part1/map.png')\n",
    "img = imread(datafile)\n",
    "plt.imshow(img, zorder=0, extent=[-88.32, -88.18, 40.04, 40.16])\n",
    "#plt.show()\n",
    "plt.rcParams[\"figure.figsize\"] = (14,14)\n",
    "plt.plot(yellow_100n.shape_pt_lon, yellow_100n.shape_pt_lat,'.y', alpha =0.5)\n",
    "plt.plot(teal.shape_pt_lon, teal.shape_pt_lat,'.b', alpha =0.5)\n",
    "plt.plot(green.shape_pt_lon, green.shape_pt_lat,'.g', alpha =0.5)\n",
    "plt.plot(red.shape_pt_lon, red.shape_pt_lat,'.r', alpha =0.5)\n",
    "plt.plot(gold.shape_pt_lon, gold.shape_pt_lat,'.', alpha =0.5, color=\"#c7994a\")\n",
    "plt.plot(silver.shape_pt_lon, silver.shape_pt_lat,'.', alpha =0.5, color=\"#cccccc\")\n",
    "plt.plot(purple.shape_pt_lon, purple.shape_pt_lat,'.', alpha =0.5,color=\"#5a1d5a\")\n",
    "plt.plot(orange.shape_pt_lon, orange.shape_pt_lat,'.', alpha =0.5,color=\"#f99f2a\")\n",
    "plt.grid()\n",
    "plt.title(\"High Frequency Map\")\n",
    "plt.xlabel(\"Longitude\")\n",
    "plt.ylabel(\"Latitude\")"
   ]
  },
  {
   "cell_type": "code",
   "execution_count": null,
   "metadata": {
    "collapsed": false
   },
   "outputs": [],
   "source": [
    "trips.route_id.unique()"
   ]
  },
  {
   "cell_type": "code",
   "execution_count": null,
   "metadata": {
    "collapsed": false
   },
   "outputs": [],
   "source": [
    "shapes.columns"
   ]
  },
  {
   "cell_type": "code",
   "execution_count": null,
   "metadata": {
    "collapsed": false
   },
   "outputs": [],
   "source": [
    "routes.columns"
   ]
  },
  {
   "cell_type": "code",
   "execution_count": null,
   "metadata": {
    "collapsed": false
   },
   "outputs": [],
   "source": [
    "trips.columns"
   ]
  },
  {
   "cell_type": "code",
   "execution_count": null,
   "metadata": {
    "collapsed": false
   },
   "outputs": [],
   "source": [
    "stop_times.columns"
   ]
  },
  {
   "cell_type": "code",
   "execution_count": null,
   "metadata": {
    "collapsed": false
   },
   "outputs": [],
   "source": [
    "stops.columns"
   ]
  },
  {
   "cell_type": "code",
   "execution_count": null,
   "metadata": {
    "collapsed": false
   },
   "outputs": [],
   "source": [
    "\n",
    "count=0\n",
    "for i in range(len(stop_times.values)):\n",
    "    if stop_times.arrival_time[i] != stop_times.departure_time[i]:\n",
    "        #print \"Not equal at \" + str(i)\n",
    "        count+=1\n",
    "count"
   ]
  },
  {
   "cell_type": "code",
   "execution_count": null,
   "metadata": {
    "collapsed": false
   },
   "outputs": [],
   "source": [
    "FMT = '%H:%M:%S'\n",
    "#arrival = datetime.datetime.strptime(str(stop_times.arrival_time),FMT)\n",
    "#departure = datetime.datetime.strptime(str(stop_times.departure_time),FMT)\n",
    "#print((departure-arrival).total_seconds())\n",
    "#pd.Timestamp(stop_times.arrival_time) - pd.Timestamp(stop_times.departure_time)\n",
    "pd.to_timedelta(stop_times.departure_time,stop_times.arrival_time)"
   ]
  },
  {
   "cell_type": "code",
   "execution_count": null,
   "metadata": {
    "collapsed": false
   },
   "outputs": [],
   "source": [
    "freq_stops = stop_times['stop_id'].value_counts().to_dict()"
   ]
  },
  {
   "cell_type": "code",
   "execution_count": null,
   "metadata": {
    "collapsed": false
   },
   "outputs": [],
   "source": [
    "len(freq_stops)"
   ]
  },
  {
   "cell_type": "code",
   "execution_count": null,
   "metadata": {
    "collapsed": false
   },
   "outputs": [],
   "source": [
    "most_freq = sorted(freq_stops.items(), key = lambda x: x[1], reverse=True)[0:12]"
   ]
  },
  {
   "cell_type": "code",
   "execution_count": null,
   "metadata": {
    "collapsed": false
   },
   "outputs": [],
   "source": [
    "freq_stops\n",
    "type(freq_stops.values()[0])"
   ]
  },
  {
   "cell_type": "code",
   "execution_count": null,
   "metadata": {
    "collapsed": false
   },
   "outputs": [],
   "source": [
    "most_freq"
   ]
  },
  {
   "cell_type": "code",
   "execution_count": null,
   "metadata": {
    "collapsed": false
   },
   "outputs": [],
   "source": [
    "stops.loc[stops.stop_id == 'PAR:2']"
   ]
  },
  {
   "cell_type": "code",
   "execution_count": null,
   "metadata": {
    "collapsed": true
   },
   "outputs": [],
   "source": [
    "most_freq_ids= [i[0] for i in most_freq]"
   ]
  },
  {
   "cell_type": "code",
   "execution_count": null,
   "metadata": {
    "collapsed": false
   },
   "outputs": [],
   "source": [
    "stops.groupby('zone_id').count()['stop_id']"
   ]
  },
  {
   "cell_type": "code",
   "execution_count": null,
   "metadata": {
    "collapsed": false
   },
   "outputs": [],
   "source": [
    "most_freq_names=[]\n",
    "stop_times_freq_id = pd.DataFrame()\n",
    "#most_freq = [i[1] for i in most_freq]\n",
    "for i in most_freq_ids:\n",
    "    most_freq_names.append(str(stops.loc[stops.stop_id==i,'stop_name']))\n"
   ]
  },
  {
   "cell_type": "code",
   "execution_count": null,
   "metadata": {
    "collapsed": true
   },
   "outputs": [],
   "source": [
    "most_freq = [i[1] for i in most_freq]"
   ]
  },
  {
   "cell_type": "code",
   "execution_count": null,
   "metadata": {
    "collapsed": false
   },
   "outputs": [],
   "source": [
    "most_freq_names[0]"
   ]
  },
  {
   "cell_type": "code",
   "execution_count": null,
   "metadata": {
    "collapsed": false
   },
   "outputs": [],
   "source": [
    "plt.rcParams[\"figure.figsize\"] = 8,8\n",
    "plt.bar(np.arange(12), most_freq,0.35,color='brown')\n",
    "plt.xticks(np.arange(12), most_freq_ids, rotation=45)\n",
    "plt.xlabel('Stops')\n",
    "plt.ylabel('Frequency of Buses')\n",
    "plt.title('High Frequency Bus Stops of CUMTD')"
   ]
  },
  {
   "cell_type": "code",
   "execution_count": null,
   "metadata": {
    "collapsed": true
   },
   "outputs": [],
   "source": [
    "frames = [stop_times, trips]"
   ]
  },
  {
   "cell_type": "code",
   "execution_count": null,
   "metadata": {
    "collapsed": false
   },
   "outputs": [],
   "source": [
    "df2 = trips.join(stop_times, on='trip_id', how='outer', lsuffix='_stops',rsuffix='_trip')"
   ]
  },
  {
   "cell_type": "code",
   "execution_count": null,
   "metadata": {
    "collapsed": false
   },
   "outputs": [],
   "source": [
    "df2"
   ]
  },
  {
   "cell_type": "code",
   "execution_count": null,
   "metadata": {
    "collapsed": false
   },
   "outputs": [],
   "source": [
    "stop_times_freq_id = pd.DataFrame()\n",
    "for i in most_freq_ids:\n",
    "    stop_times_freq_id = stop_times_freq_id.append(stop_times.loc[stop_times.stop_id==i])"
   ]
  },
  {
   "cell_type": "code",
   "execution_count": null,
   "metadata": {
    "collapsed": false
   },
   "outputs": [],
   "source": [
    "most_freq_ids"
   ]
  },
  {
   "cell_type": "code",
   "execution_count": null,
   "metadata": {
    "collapsed": false
   },
   "outputs": [],
   "source": [
    "stop_times_freq_id"
   ]
  },
  {
   "cell_type": "code",
   "execution_count": null,
   "metadata": {
    "collapsed": false
   },
   "outputs": [],
   "source": [
    "routes[routes['route_id']=='TEAL']"
   ]
  },
  {
   "cell_type": "code",
   "execution_count": null,
   "metadata": {
    "collapsed": true
   },
   "outputs": [],
   "source": []
  },
  {
   "cell_type": "code",
   "execution_count": null,
   "metadata": {
    "collapsed": false
   },
   "outputs": [],
   "source": [
    "trips"
   ]
  },
  {
   "cell_type": "code",
   "execution_count": null,
   "metadata": {
    "collapsed": false
   },
   "outputs": [],
   "source": [
    "bus_freq = trips.groupby(['route_id']).count()['trip_id'].to_dict()\n",
    "route_color=[]\n",
    "for i in bus_freq.keys():\n",
    "    route_color.append('#'+routes.loc[routes.route_id==i,'route_color'])\n",
    "    \n",
    "trips.groupby(['route_id']).count()['trip_id']"
   ]
  },
  {
   "cell_type": "code",
   "execution_count": null,
   "metadata": {
    "collapsed": false
   },
   "outputs": [],
   "source": [
    "plt.scatter(np.arange(100),trips['route_id'].value_counts())\n",
    "#plt.plot(bus_freq)\n",
    "#plt.colors(route_color)\n",
    "# fig, ax = plt.subplots()\n",
    "# ax.set_color_cycle(route_color)\n",
    "# for i in range(1, 6):\n",
    "#     plt.plot(np.arange(100),trips['route_id'].value_counts())\n",
    "# plt.legend(loc='best')\n",
    "# plt.show()"
   ]
  },
  {
   "cell_type": "code",
   "execution_count": null,
   "metadata": {
    "collapsed": false
   },
   "outputs": [],
   "source": [
    "len(trips.shape_id.unique())"
   ]
  },
  {
   "cell_type": "code",
   "execution_count": null,
   "metadata": {
    "collapsed": false
   },
   "outputs": [],
   "source": [
    "len(stop_times.trip_id.unique())"
   ]
  },
  {
   "cell_type": "code",
   "execution_count": null,
   "metadata": {
    "collapsed": false
   },
   "outputs": [],
   "source": [
    "stops.columns"
   ]
  },
  {
   "cell_type": "code",
   "execution_count": null,
   "metadata": {
    "collapsed": false
   },
   "outputs": [],
   "source": [
    "stop_times.groupby(['trip_id']).count()"
   ]
  },
  {
   "cell_type": "code",
   "execution_count": null,
   "metadata": {
    "collapsed": false
   },
   "outputs": [],
   "source": [
    "stop_times['trip_id'].value_counts()"
   ]
  },
  {
   "cell_type": "code",
   "execution_count": null,
   "metadata": {
    "collapsed": false
   },
   "outputs": [],
   "source": [
    "stop_times.shape"
   ]
  },
  {
   "cell_type": "code",
   "execution_count": null,
   "metadata": {
    "collapsed": false
   },
   "outputs": [],
   "source": [
    "plt.plot(most_freq, trips['route_id'].value_counts()[0:12],)"
   ]
  },
  {
   "cell_type": "code",
   "execution_count": null,
   "metadata": {
    "collapsed": true
   },
   "outputs": [],
   "source": []
  }
 ],
 "metadata": {
  "anaconda-cloud": {},
  "kernelspec": {
   "display_name": "Python 3",
   "language": "python",
   "name": "python3"
  },
  "language_info": {
   "codemirror_mode": {
    "name": "ipython",
    "version": 3
   },
   "file_extension": ".py",
   "mimetype": "text/x-python",
   "name": "python",
   "nbconvert_exporter": "python",
   "pygments_lexer": "ipython3",
   "version": "3.6.0"
  }
 },
 "nbformat": 4,
 "nbformat_minor": 1
}
