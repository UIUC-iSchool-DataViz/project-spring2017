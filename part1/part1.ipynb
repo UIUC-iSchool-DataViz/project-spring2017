{
 "cells": [
  {
   "cell_type": "code",
   "execution_count": null,
   "metadata": {},
   "outputs": [],
   "source": [
    "ls"
   ]
  },
  {
   "cell_type": "code",
   "execution_count": null,
   "metadata": {},
   "outputs": [],
   "source": [
    "import pandas as pd\n",
    "import numpy as np\n",
    "import matplotlib.pyplot as plt\n",
    "plt.style.use('ggplot')\n",
    "import gmplot\n",
    "import datetime\n",
    "%matplotlib inline"
   ]
  },
  {
   "cell_type": "code",
   "execution_count": null,
   "metadata": {},
   "outputs": [],
   "source": []
  },
  {
   "cell_type": "code",
   "execution_count": null,
   "metadata": {},
   "outputs": [],
   "source": [
    "shapes = pd.read_csv(\"google_transit/shapes.txt\")"
   ]
  },
  {
   "cell_type": "code",
   "execution_count": null,
   "metadata": {
    "scrolled": true
   },
   "outputs": [],
   "source": [
    "shapes"
   ]
  },
  {
   "cell_type": "code",
   "execution_count": null,
   "metadata": {},
   "outputs": [],
   "source": [
    "shape1 = shapes.loc[shapes[\"shape_id\"] == \"[@2.0.86175868@]34\"]"
   ]
  },
  {
   "cell_type": "code",
   "execution_count": null,
   "metadata": {
    "scrolled": true
   },
   "outputs": [],
   "source": [
    "shape1"
   ]
  },
  {
   "cell_type": "code",
   "execution_count": null,
   "metadata": {},
   "outputs": [],
   "source": [
    "shapes.groupby(['shape_id']).max()['shape_dist_traveled']"
   ]
  },
  {
   "cell_type": "code",
   "execution_count": null,
   "metadata": {},
   "outputs": [],
   "source": [
    "max(shape1[\"shape_dist_traveled\"])"
   ]
  },
  {
   "cell_type": "code",
   "execution_count": null,
   "metadata": {
    "scrolled": true
   },
   "outputs": [],
   "source": [
    "shapes.groupby([\"shape_id\"]).count()"
   ]
  },
  {
   "cell_type": "code",
   "execution_count": null,
   "metadata": {},
   "outputs": [],
   "source": [
    "nx, ny = 10, 3\n",
    "\n",
    "# compute appropriate bins to histogram the data into\n",
    "lon_bins = numpy.linspace(min(shape1[\"shape_pt_lon\"]), max(shape1[\"shape_pt_lon\"]), nx+1)\n",
    "lat_bins = numpy.linspace(min(shape1[\"shape_pt_lat\"]), max(shape1[\"shape_pt_lat\"]), ny+1)\n",
    "\n",
    "# Histogram the lats and lons to produce an array of frequencies in each box.\n",
    "# Because histogram2d does not follow the cartesian convention \n",
    "# (as documented in the numpy.histogram2d docs)\n",
    "# we need to provide lats and lons rather than lons and lats\n",
    "density, _, _ = numpy.histogram2d(shape1[\"shape_pt_lat\"], shape1[\"shape_pt_lon\"], [lat_bins, lon_bins])\n",
    "\n",
    "# Turn the lon/lat bins into 2 dimensional arrays ready \n",
    "# for conversion into projected coordinates\n",
    "lon_bins_2d, lat_bins_2d = numpy.meshgrid(lon_bins, lat_bins)\n",
    "\n",
    "# convert the xs and ys to map coordinates\n",
    "xs, ys = m(lon_bins_2d, lat_bins_2d)\n",
    "\n",
    "plt.pcolormesh(xs, ys, density)\n",
    "plt.colorbar(orientation='horizontal')\n",
    "\n",
    "# overlay the scatter points to see that the density \n",
    "# is working as expected\n",
    "plt.scatter(*m(shape1[\"shape_pt_lon\"], shape1[\"shape_pt_lat\"]))\n",
    "\n",
    "plt.show()"
   ]
  },
  {
   "cell_type": "code",
   "execution_count": null,
   "metadata": {},
   "outputs": [],
   "source": [
    "plt.plot(shape1.shape_pt_lon, shape1.shape_pt_lat)"
   ]
  },
  {
   "cell_type": "code",
   "execution_count": null,
   "metadata": {},
   "outputs": [],
   "source": [
    "len(shapes.shape_id.unique())"
   ]
  },
  {
   "cell_type": "code",
   "execution_count": null,
   "metadata": {},
   "outputs": [],
   "source": [
    "shapes.shape_id.unique()"
   ]
  },
  {
   "cell_type": "code",
   "execution_count": null,
   "metadata": {
    "collapsed": true
   },
   "outputs": [],
   "source": [
    "routes = pd.read_csv(\"google_transit/routes.txt\")"
   ]
  },
  {
   "cell_type": "code",
   "execution_count": null,
   "metadata": {},
   "outputs": [],
   "source": [
    "routes"
   ]
  },
  {
   "cell_type": "code",
   "execution_count": null,
   "metadata": {
    "collapsed": true
   },
   "outputs": [],
   "source": [
    "trips = pd.read_csv(\"google_transit/trips.txt\")"
   ]
  },
  {
   "cell_type": "code",
   "execution_count": null,
   "metadata": {},
   "outputs": [],
   "source": [
    "trips"
   ]
  },
  {
   "cell_type": "code",
   "execution_count": null,
   "metadata": {},
   "outputs": [],
   "source": [
    "trips.trip_id.unique()"
   ]
  },
  {
   "cell_type": "code",
   "execution_count": null,
   "metadata": {
    "collapsed": true
   },
   "outputs": [],
   "source": [
    "calendar = pd.read_csv(\"google_transit/calendar.txt\")"
   ]
  },
  {
   "cell_type": "code",
   "execution_count": null,
   "metadata": {
    "collapsed": true
   },
   "outputs": [],
   "source": [
    "calendar_dates = pd.read_csv(\"google_transit/calendar_dates.txt\")"
   ]
  },
  {
   "cell_type": "code",
   "execution_count": null,
   "metadata": {
    "collapsed": true
   },
   "outputs": [],
   "source": [
    "fare_attributes = pd.read_csv(\"google_transit/fare_attributes.txt\")"
   ]
  },
  {
   "cell_type": "code",
   "execution_count": null,
   "metadata": {},
   "outputs": [],
   "source": [
    "fare_attributes"
   ]
  },
  {
   "cell_type": "code",
   "execution_count": null,
   "metadata": {
    "collapsed": true
   },
   "outputs": [],
   "source": [
    "fare_rules = pd.read_csv(\"google_transit/fare_rules.txt\")"
   ]
  },
  {
   "cell_type": "code",
   "execution_count": null,
   "metadata": {},
   "outputs": [],
   "source": [
    "fare_rules.groupby([\"fare_id\"]).count()"
   ]
  },
  {
   "cell_type": "code",
   "execution_count": null,
   "metadata": {},
   "outputs": [],
   "source": [
    "plt.plot(shapes.shape_pt_lat, shapes.shape_pt_lon,'.', alpha =0.5)\n",
    "plt.grid()"
   ]
  },
  {
   "cell_type": "code",
   "execution_count": null,
   "metadata": {
    "collapsed": true
   },
   "outputs": [],
   "source": [
    "stops = pd.read_csv(\"google_transit/stops.txt\")"
   ]
  },
  {
   "cell_type": "code",
   "execution_count": null,
   "metadata": {},
   "outputs": [],
   "source": [
    "stops"
   ]
  },
  {
   "cell_type": "code",
   "execution_count": null,
   "metadata": {},
   "outputs": [],
   "source": [
    "gmap = gmplot.GoogleMapPlotter(40.088, -88.281, 16)\n",
    "gmap.scatter(stops.stop_lat, stops.stop_lon,'r', size=30, marker=False)\n",
    "gmap.draw('density.html')"
   ]
  },
  {
   "cell_type": "code",
   "execution_count": null,
   "metadata": {},
   "outputs": [],
   "source": [
    "gmap = gmplot.GoogleMapPlotter(40.088, -88.281, 16)\n",
    "gmap.heatmap(stops.stop_lat, stops.stop_lon)\n",
    "gmap.draw('density_heatmap.html')\n"
   ]
  },
  {
   "cell_type": "code",
   "execution_count": null,
   "metadata": {},
   "outputs": [],
   "source": [
    "plt.hexbin(stops.stop_lat, stops.stop_lon, bins = 'log', cmap = 'viridis')\n",
    "cb = plt.colorbar()\n",
    "cb.set_label('Stop Density')\n",
    "plt.title(\"Spatial Distribution of Stops\")\n",
    "plt.xlabel(\"Latitude\")\n",
    "plt.ylabel(\"Longitude\")"
   ]
  },
  {
   "cell_type": "code",
   "execution_count": null,
   "metadata": {
    "collapsed": true
   },
   "outputs": [],
   "source": [
    "stop_times = pd.read_csv(\"google_transit/stop_times.txt\")"
   ]
  },
  {
   "cell_type": "code",
   "execution_count": null,
   "metadata": {},
   "outputs": [],
   "source": [
    "stop_times"
   ]
  },
  {
   "cell_type": "code",
   "execution_count": null,
   "metadata": {},
   "outputs": [],
   "source": [
    "stop_times.loc[stop_times['trip_id']=='[@14.0.56288404@][41][1316446361177]/2__R2_MF']"
   ]
  },
  {
   "cell_type": "code",
   "execution_count": null,
   "metadata": {},
   "outputs": [],
   "source": [
    "len(stop_times.trip_id.unique())"
   ]
  },
  {
   "cell_type": "code",
   "execution_count": null,
   "metadata": {},
   "outputs": [],
   "source": [
    "yellow_100n = shapes.loc[shapes[\"shape_id\"] == \"100N\"]\n",
    "teal = shapes.loc[shapes[\"shape_id\"] == \"[@124.0.92275054@]120W TEAL LATE 12\"]\n",
    "green = shapes.loc[shapes[\"shape_id\"] == \"[@124.0.92311676@]50E GREEN 53\"]\n",
    "red = shapes.loc[shapes[\"shape_id\"] == \"RED 6\"]\n",
    "gold = shapes.loc[shapes[\"shape_id\"] == \"[@2.0.84927215@]GOLD 1\"]\n",
    "silver = shapes.loc[shapes[\"shape_id\"] == \"[@124.0.92286725@]130N SILVER EVENING 1\"]\n",
    "purple = shapes.loc[shapes[\"shape_id\"] == \"[@124.0.92263401@]220N ILLINI 10\"]\n",
    "orange = shapes.loc[shapes[\"shape_id\"] == \"[@2.0.86175868@]ORANGE 33\"]"
   ]
  },
  {
   "cell_type": "code",
   "execution_count": null,
   "metadata": {},
   "outputs": [],
   "source": [
    "import matplotlib.cbook as cbook\n",
    "from scipy.misc import imread\n",
    "\n",
    "datafile = cbook.get_sample_data('/Users/arpitgarg/Documents/UIUC/MSIM/spring17/Data-Visualization-Class/Project/project-spring2017/part1/map.png')\n",
    "img = imread(datafile)\n",
    "plt.imshow(img, zorder=0, extent=[-88.32, -88.18, 40.04, 40.16])\n",
    "#plt.show()\n",
    "plt.rcParams[\"figure.figsize\"] = (14,14)\n",
    "plt.plot(yellow_100n.shape_pt_lon, yellow_100n.shape_pt_lat,'.y', alpha =0.5)\n",
    "plt.plot(teal.shape_pt_lon, teal.shape_pt_lat,'.b', alpha =0.5)\n",
    "plt.plot(green.shape_pt_lon, green.shape_pt_lat,'.g', alpha =0.5)\n",
    "plt.plot(red.shape_pt_lon, red.shape_pt_lat,'.r', alpha =0.5)\n",
    "plt.plot(gold.shape_pt_lon, gold.shape_pt_lat,'.', alpha =0.5, color=\"#c7994a\")\n",
    "plt.plot(silver.shape_pt_lon, silver.shape_pt_lat,'.', alpha =0.5, color=\"#cccccc\")\n",
    "plt.plot(purple.shape_pt_lon, purple.shape_pt_lat,'.', alpha =0.5,color=\"#5a1d5a\")\n",
    "plt.plot(orange.shape_pt_lon, orange.shape_pt_lat,'.', alpha =0.5,color=\"#f99f2a\")\n",
    "plt.grid()\n",
    "plt.title(\"High Frequency Map\")\n",
    "plt.xlabel(\"Longitude\")\n",
    "plt.ylabel(\"Latitude\")"
   ]
  },
  {
   "cell_type": "code",
   "execution_count": null,
   "metadata": {},
   "outputs": [],
   "source": [
    "trips.route_id.unique()"
   ]
  },
  {
   "cell_type": "code",
   "execution_count": null,
   "metadata": {},
   "outputs": [],
   "source": [
    "shapes.columns"
   ]
  },
  {
   "cell_type": "code",
   "execution_count": null,
   "metadata": {},
   "outputs": [],
   "source": [
    "routes.columns"
   ]
  },
  {
   "cell_type": "code",
   "execution_count": null,
   "metadata": {},
   "outputs": [],
   "source": [
    "trips.columns"
   ]
  },
  {
   "cell_type": "code",
   "execution_count": null,
   "metadata": {},
   "outputs": [],
   "source": [
    "stop_times.columns"
   ]
  },
  {
   "cell_type": "code",
   "execution_count": null,
   "metadata": {},
   "outputs": [],
   "source": [
    "stops.columns"
   ]
  },
  {
   "cell_type": "code",
   "execution_count": null,
   "metadata": {},
   "outputs": [],
   "source": [
    "\n",
    "count=0\n",
    "for i in range(len(stop_times.values)):\n",
    "    if stop_times.arrival_time[i] != stop_times.departure_time[i]:\n",
    "        #print \"Not equal at \" + str(i)\n",
    "        count+=1\n",
    "count"
   ]
  },
  {
   "cell_type": "code",
   "execution_count": null,
   "metadata": {},
   "outputs": [],
   "source": [
    "FMT = '%H:%M:%S'\n",
    "#arrival = datetime.datetime.strptime(str(stop_times.arrival_time),FMT)\n",
    "#departure = datetime.datetime.strptime(str(stop_times.departure_time),FMT)\n",
    "#print((departure-arrival).total_seconds())\n",
    "#pd.Timestamp(stop_times.arrival_time) - pd.Timestamp(stop_times.departure_time)\n",
    "pd.to_timedelta(stop_times.departure_time,stop_times.arrival_time)"
   ]
  },
  {
   "cell_type": "code",
   "execution_count": null,
   "metadata": {},
   "outputs": [],
   "source": [
    "freq_stops = stop_times['stop_id'].value_counts().to_dict()"
   ]
  },
  {
   "cell_type": "code",
   "execution_count": null,
   "metadata": {},
   "outputs": [],
   "source": [
    "len(freq_stops)"
   ]
  },
  {
   "cell_type": "code",
   "execution_count": null,
   "metadata": {},
   "outputs": [],
   "source": [
    "most_freq = sorted(freq_stops.items(), key = lambda x: x[1], reverse=True)[0:12]"
   ]
  },
  {
   "cell_type": "code",
   "execution_count": null,
   "metadata": {},
   "outputs": [],
   "source": [
    "freq_stops\n",
    "type(freq_stops.values()[0])"
   ]
  },
  {
   "cell_type": "code",
   "execution_count": null,
   "metadata": {},
   "outputs": [],
   "source": [
    "most_freq"
   ]
  },
  {
   "cell_type": "code",
   "execution_count": null,
   "metadata": {},
   "outputs": [],
   "source": [
    "stops.loc[stops.stop_id == 'PAR:2']"
   ]
  },
  {
   "cell_type": "code",
   "execution_count": null,
   "metadata": {
    "collapsed": true
   },
   "outputs": [],
   "source": [
    "most_freq_ids= [i[0] for i in most_freq]"
   ]
  },
  {
   "cell_type": "code",
   "execution_count": null,
   "metadata": {},
   "outputs": [],
   "source": [
    "stops.groupby('zone_id').count()['stop_id']"
   ]
  },
  {
   "cell_type": "code",
   "execution_count": null,
   "metadata": {},
   "outputs": [],
   "source": [
    "most_freq_names=[]\n",
    "stop_times_freq_id = pd.DataFrame()\n",
    "#most_freq = [i[1] for i in most_freq]\n",
    "for i in most_freq_ids:\n",
    "    most_freq_names.append(str(stops.loc[stops.stop_id==i,'stop_name']))\n"
   ]
  },
  {
   "cell_type": "code",
   "execution_count": null,
   "metadata": {
    "collapsed": true
   },
   "outputs": [],
   "source": [
    "most_freq = [i[1] for i in most_freq]"
   ]
  },
  {
   "cell_type": "code",
   "execution_count": null,
   "metadata": {},
   "outputs": [],
   "source": [
    "most_freq_names[0]"
   ]
  },
  {
   "cell_type": "code",
   "execution_count": null,
   "metadata": {},
   "outputs": [],
   "source": [
    "plt.rcParams[\"figure.figsize\"] = 8,8\n",
    "plt.bar(np.arange(12), most_freq,0.35,color='brown')\n",
    "plt.xticks(np.arange(12), most_freq_ids, rotation=45)\n",
    "plt.xlabel('Stops')\n",
    "plt.ylabel('Frequency of Buses')\n",
    "plt.title('High Frequency Bus Stops of CUMTD')"
   ]
  },
  {
   "cell_type": "code",
   "execution_count": null,
   "metadata": {
    "collapsed": true
   },
   "outputs": [],
   "source": [
    "frames = [stop_times, trips]"
   ]
  },
  {
   "cell_type": "code",
   "execution_count": null,
   "metadata": {},
   "outputs": [],
   "source": [
    "df2 = trips.join(stop_times, on='trip_id', how='outer', lsuffix='_stops',rsuffix='_trip')"
   ]
  },
  {
   "cell_type": "code",
   "execution_count": null,
   "metadata": {},
   "outputs": [],
   "source": [
    "df2"
   ]
  },
  {
   "cell_type": "code",
   "execution_count": null,
   "metadata": {},
   "outputs": [],
   "source": [
    "stop_times_freq_id = pd.DataFrame()\n",
    "for i in most_freq_ids:\n",
    "    stop_times_freq_id = stop_times_freq_id.append(stop_times.loc[stop_times.stop_id==i])"
   ]
  },
  {
   "cell_type": "code",
   "execution_count": null,
   "metadata": {},
   "outputs": [],
   "source": [
    "most_freq_ids"
   ]
  },
  {
   "cell_type": "code",
   "execution_count": null,
   "metadata": {},
   "outputs": [],
   "source": [
    "stop_times_freq_id"
   ]
  },
  {
   "cell_type": "code",
   "execution_count": null,
   "metadata": {},
   "outputs": [],
   "source": [
    "routes[routes['route_id']=='TEAL']"
   ]
  },
  {
   "cell_type": "code",
   "execution_count": null,
   "metadata": {
    "collapsed": true
   },
   "outputs": [],
   "source": []
  },
  {
   "cell_type": "code",
   "execution_count": null,
   "metadata": {},
   "outputs": [],
   "source": [
    "trips"
   ]
  },
  {
   "cell_type": "code",
   "execution_count": null,
   "metadata": {},
   "outputs": [],
   "source": [
    "bus_freq = trips.groupby(['route_id']).count()['trip_id'].to_dict()\n",
    "route_color=[]\n",
    "for i in bus_freq.keys():\n",
    "    route_color.append('#'+routes.loc[routes.route_id==i,'route_color'])\n",
    "    \n",
    "trips.groupby(['route_id']).count()['trip_id']"
   ]
  },
  {
   "cell_type": "code",
   "execution_count": null,
   "metadata": {},
   "outputs": [],
   "source": [
    "plt.scatter(np.arange(100),trips['route_id'].value_counts())\n",
    "#plt.plot(bus_freq)\n",
    "#plt.colors(route_color)\n",
    "# fig, ax = plt.subplots()\n",
    "# ax.set_color_cycle(route_color)\n",
    "# for i in range(1, 6):\n",
    "#     plt.plot(np.arange(100),trips['route_id'].value_counts())\n",
    "# plt.legend(loc='best')\n",
    "# plt.show()"
   ]
  },
  {
   "cell_type": "code",
   "execution_count": null,
   "metadata": {},
   "outputs": [],
   "source": [
    "len(trips.shape_id.unique())"
   ]
  },
  {
   "cell_type": "code",
   "execution_count": null,
   "metadata": {},
   "outputs": [],
   "source": [
    "len(stop_times.trip_id.unique())"
   ]
  },
  {
   "cell_type": "code",
   "execution_count": null,
   "metadata": {},
   "outputs": [],
   "source": [
    "stops.columns"
   ]
  },
  {
   "cell_type": "code",
   "execution_count": null,
   "metadata": {},
   "outputs": [],
   "source": [
    "stop_times.groupby(['trip_id']).count()"
   ]
  },
  {
   "cell_type": "code",
   "execution_count": null,
   "metadata": {},
   "outputs": [],
   "source": [
    "stop_times['trip_id'].value_counts()"
   ]
  },
  {
   "cell_type": "code",
   "execution_count": null,
   "metadata": {},
   "outputs": [],
   "source": [
    "stop_times.shape"
   ]
  },
  {
   "cell_type": "code",
   "execution_count": null,
   "metadata": {},
   "outputs": [],
   "source": [
    "plt.plot(most_freq, trips['route_id'].value_counts()[0:12],)"
   ]
  },
  {
   "cell_type": "code",
   "execution_count": null,
   "metadata": {
    "collapsed": true
   },
   "outputs": [],
   "source": []
  }
 ],
 "metadata": {
  "anaconda-cloud": {},
  "kernelspec": {
   "display_name": "Python 3",
   "language": "python",
   "name": "python3"
  },
  "language_info": {
   "codemirror_mode": {
    "name": "ipython",
    "version": 3
   },
   "file_extension": ".py",
   "mimetype": "text/x-python",
   "name": "python",
   "nbconvert_exporter": "python",
   "pygments_lexer": "ipython3",
   "version": "3.6.0"
  }
 },
 "nbformat": 4,
 "nbformat_minor": 1
}
